{
 "cells": [
  {
   "cell_type": "code",
   "execution_count": 2,
   "metadata": {
    "collapsed": true
   },
   "outputs": [
    {
     "name": "stderr",
     "output_type": "stream",
     "text": [
      "UsageError: Line magic function `%` not found.\n"
     ]
    }
   ],
   "source": [
    "from utils.functions import get_path, search_files, get_filename\n",
    "\n",
    "from typing import io\n",
    "\n",
    "import cv2\n",
    "import plistlib\n",
    "\n",
    "import pandas as pd\n",
    "import numpy as np\n",
    "import matplotlib.pyplot as plt\n",
    "\n",
    "% matplotlib inline"
   ]
  },
  {
   "cell_type": "code",
   "execution_count": 3,
   "outputs": [],
   "source": [
    "dir_imgs = r'C:\\Users\\USUARIO\\Desktop\\Master Data Science\\TFM\\Code\\data\\01_CONVERTED\\INBreast\\FULL'\n",
    "dir_xml = r'C:\\Users\\USUARIO\\Desktop\\Master Data Science\\TFM\\Code\\data\\00_RAW\\INBreast\\AllXML'\n",
    "\n",
    "def get_inbreast_roi():\n",
    "    \"\"\"\n",
    "    This function loads a osirix xml region as a binary numpy array for INBREAST\n",
    "    dataset\n",
    "    @mask_path : Path to the xml file\n",
    "    @imshape : The shape of the image as an array e.g. [4084, 3328]\n",
    "    return: numpy array where positions in the roi are assigned a value of 1.\n",
    "    \"\"\"\n",
    "\n",
    "    def load_point(point_string):\n",
    "        x, y = tuple([int(round(float(num), 0)) for num in point_string.strip('()').split(',')])\n",
    "        return y, x\n",
    "\n",
    "    l = []\n",
    "    for path in search_files(file=dir_xml, ext='xml', in_subdirs=False):\n",
    "        plist_dict = plistlib.load(open(path, 'rb'), fmt=plistlib.FMT_XML)['Images'][0]\n",
    "        for roi in plist_dict['ROIs']:\n",
    "            if roi['Name'] in ['Mass']:\n",
    "                p = pd.DataFrame(data=[load_point(point) for point in roi['Point_px']], columns=['Y', 'X'])\n",
    "                l.append([get_filename(path), p.X.max(), p.X.min(), p.Y.max(), p.Y.min(), list(p.values.tolist())])\n",
    "\n",
    "    df = pd.DataFrame(data=l, columns=['File Name', 'X_MAX', 'X_MIN', 'Y_MAX', 'Y_MIN', 'POINTS'])\n",
    "\n",
    "    return df\n",
    "\n",
    "def get_images(p: io):\n",
    "\n",
    "    l = []\n",
    "    for path in search_files(file=p, ext='png', in_subdirs=False):\n",
    "        img = cv2.cvtColor(cv2.imread(path), cv2.COLOR_BGR2GRAY)\n",
    "        l.append([get_filename(path), img, img.shape[0], img.shape[1]])\n",
    "\n",
    "    df = pd.DataFrame(data=l, columns=['File Name', 'image', 'height', 'width'])\n",
    "\n",
    "    return df"
   ],
   "metadata": {
    "collapsed": false,
    "pycharm": {
     "name": "#%%\n"
    }
   }
  },
  {
   "cell_type": "code",
   "execution_count": 4,
   "outputs": [],
   "source": [
    "df_xml = get_inbreast_roi()\n",
    "df_imgs = get_images(p=dir_imgs)"
   ],
   "metadata": {
    "collapsed": false,
    "pycharm": {
     "name": "#%%\n"
    }
   }
  },
  {
   "cell_type": "code",
   "execution_count": 26,
   "outputs": [
    {
     "data": {
      "text/plain": "4084, 3328    48\n3328, 2560    40\ndtype: int64"
     },
     "execution_count": 26,
     "metadata": {},
     "output_type": "execute_result"
    }
   ],
   "source": [
    "# Analisis del tamaño de las imagenes de inbreast. Parece que hay exclusivamente dos tamaños de parche.\n",
    "df_imgs.apply(lambda x: f'{x.height}, {x.width}', axis=1).value_counts()\n"
   ],
   "metadata": {
    "collapsed": false,
    "pycharm": {
     "name": "#%%\n"
    }
   }
  },
  {
   "cell_type": "code",
   "execution_count": 62,
   "outputs": [
    {
     "data": {
      "text/plain": "           height       width\ncount  116.000000  116.000000\nmean   324.448276  328.060345\nstd    202.017922  193.817139\nmin     49.000000   73.000000\n10%    126.500000  138.000000\n20%    162.000000  166.000000\n30%    194.000000  192.500000\n40%    223.000000  220.000000\n50%    256.500000  281.000000\n60%    327.000000  326.000000\n70%    402.000000  424.000000\n80%    465.000000  484.000000\n90%    607.000000  541.000000\nmax    985.000000  977.000000",
      "text/html": "<div>\n<style scoped>\n    .dataframe tbody tr th:only-of-type {\n        vertical-align: middle;\n    }\n\n    .dataframe tbody tr th {\n        vertical-align: top;\n    }\n\n    .dataframe thead th {\n        text-align: right;\n    }\n</style>\n<table border=\"1\" class=\"dataframe\">\n  <thead>\n    <tr style=\"text-align: right;\">\n      <th></th>\n      <th>height</th>\n      <th>width</th>\n    </tr>\n  </thead>\n  <tbody>\n    <tr>\n      <th>count</th>\n      <td>116.000000</td>\n      <td>116.000000</td>\n    </tr>\n    <tr>\n      <th>mean</th>\n      <td>324.448276</td>\n      <td>328.060345</td>\n    </tr>\n    <tr>\n      <th>std</th>\n      <td>202.017922</td>\n      <td>193.817139</td>\n    </tr>\n    <tr>\n      <th>min</th>\n      <td>49.000000</td>\n      <td>73.000000</td>\n    </tr>\n    <tr>\n      <th>10%</th>\n      <td>126.500000</td>\n      <td>138.000000</td>\n    </tr>\n    <tr>\n      <th>20%</th>\n      <td>162.000000</td>\n      <td>166.000000</td>\n    </tr>\n    <tr>\n      <th>30%</th>\n      <td>194.000000</td>\n      <td>192.500000</td>\n    </tr>\n    <tr>\n      <th>40%</th>\n      <td>223.000000</td>\n      <td>220.000000</td>\n    </tr>\n    <tr>\n      <th>50%</th>\n      <td>256.500000</td>\n      <td>281.000000</td>\n    </tr>\n    <tr>\n      <th>60%</th>\n      <td>327.000000</td>\n      <td>326.000000</td>\n    </tr>\n    <tr>\n      <th>70%</th>\n      <td>402.000000</td>\n      <td>424.000000</td>\n    </tr>\n    <tr>\n      <th>80%</th>\n      <td>465.000000</td>\n      <td>484.000000</td>\n    </tr>\n    <tr>\n      <th>90%</th>\n      <td>607.000000</td>\n      <td>541.000000</td>\n    </tr>\n    <tr>\n      <th>max</th>\n      <td>985.000000</td>\n      <td>977.000000</td>\n    </tr>\n  </tbody>\n</table>\n</div>"
     },
     "execution_count": 62,
     "metadata": {},
     "output_type": "execute_result"
    }
   ],
   "source": [
    "# Analisis de las máscaras\n",
    "df_xml.loc[:, 'height'] = df_xml.apply(lambda x: x.Y_MAX - x.Y_MIN, axis=1)\n",
    "df_xml.loc[:, 'width'] = df_xml.apply(lambda x: x.X_MAX - x.X_MIN, axis=1)\n",
    "\n",
    "df_xml[['height', 'width']].describe(percentiles=[0.1, 0.2, 0.3, 0.4, 0.5, 0.6, 0.7, 0.8, 0.9])"
   ],
   "metadata": {
    "collapsed": false,
    "pycharm": {
     "name": "#%%\n"
    }
   }
  },
  {
   "cell_type": "code",
   "execution_count": 84,
   "outputs": [],
   "source": [
    "df = pd.merge(left=df_imgs, right=df_xml, on=['File Name'], how='left')"
   ],
   "metadata": {
    "collapsed": false,
    "pycharm": {
     "name": "#%%\n"
    }
   }
  },
  {
   "cell_type": "code",
   "execution_count": 107,
   "outputs": [],
   "source": [
    "def draw_mask(shape: tuple, points: list):\n",
    "\n",
    "    img = np.zeros(shape=shape)\n",
    "    cv2.polylines(img, np.int32([np.array(points)]), isClosed=True, color=(255, 255, 255), thickness=5)\n",
    "    return img\n",
    "\n",
    "def draw_mask_2(shape: tuple, filename: io):\n",
    "    from skimage.draw import polygon\n",
    "    def load_point(point_string):\n",
    "        x, y = tuple([float(num) for num in point_string.strip('()').split(',')])\n",
    "        return y, x\n",
    "\n",
    "    mask = np.zeros(shape)\n",
    "    plist_dict = plistlib.load(open(get_path(dir_xml, f'{filename}.xml'), 'rb'), fmt=plistlib.FMT_XML)['Images'][0]\n",
    "    for roi in plist_dict['ROIs']:\n",
    "        points = [load_point(point) for point in roi['Point_px']]\n",
    "        x, y = zip(*points)\n",
    "        x, y = np.array(x), np.array(y)\n",
    "        poly_x, poly_y = polygon(x, y, shape=shape)\n",
    "        mask[poly_x, poly_y] = 1\n",
    "    return mask"
   ],
   "metadata": {
    "collapsed": false,
    "pycharm": {
     "name": "#%%\n"
    }
   }
  },
  {
   "cell_type": "code",
   "execution_count": 8,
   "outputs": [
    {
     "ename": "NameError",
     "evalue": "name 'df' is not defined",
     "output_type": "error",
     "traceback": [
      "\u001B[1;31m---------------------------------------------------------------------------\u001B[0m",
      "\u001B[1;31mNameError\u001B[0m                                 Traceback (most recent call last)",
      "\u001B[1;32m~\\AppData\\Local\\Temp/ipykernel_612/4182340595.py\u001B[0m in \u001B[0;36m<module>\u001B[1;34m\u001B[0m\n\u001B[1;32m----> 1\u001B[1;33m \u001B[0mimagen\u001B[0m \u001B[1;33m=\u001B[0m \u001B[0mdf\u001B[0m\u001B[1;33m.\u001B[0m\u001B[0miloc\u001B[0m\u001B[1;33m[\u001B[0m\u001B[1;36m0\u001B[0m\u001B[1;33m]\u001B[0m\u001B[1;33m\u001B[0m\u001B[1;33m\u001B[0m\u001B[0m\n\u001B[0m\u001B[0;32m      2\u001B[0m \u001B[1;33m\u001B[0m\u001B[0m\n\u001B[0;32m      3\u001B[0m \u001B[1;32mdef\u001B[0m \u001B[0mplot_mask\u001B[0m\u001B[1;33m(\u001B[0m\u001B[0mimagen\u001B[0m\u001B[1;33m)\u001B[0m\u001B[1;33m:\u001B[0m\u001B[1;33m\u001B[0m\u001B[1;33m\u001B[0m\u001B[0m\n\u001B[0;32m      4\u001B[0m \u001B[1;33m\u001B[0m\u001B[0m\n\u001B[0;32m      5\u001B[0m     \u001B[0mfig\u001B[0m\u001B[1;33m,\u001B[0m \u001B[0max\u001B[0m \u001B[1;33m=\u001B[0m \u001B[0mplt\u001B[0m\u001B[1;33m.\u001B[0m\u001B[0msubplots\u001B[0m\u001B[1;33m(\u001B[0m\u001B[1;36m1\u001B[0m\u001B[1;33m,\u001B[0m \u001B[1;36m4\u001B[0m\u001B[1;33m,\u001B[0m \u001B[0mfigsize\u001B[0m\u001B[1;33m=\u001B[0m\u001B[1;33m(\u001B[0m\u001B[1;36m15\u001B[0m\u001B[1;33m,\u001B[0m \u001B[1;36m7\u001B[0m\u001B[1;33m)\u001B[0m\u001B[1;33m)\u001B[0m\u001B[1;33m\u001B[0m\u001B[1;33m\u001B[0m\u001B[0m\n",
      "\u001B[1;31mNameError\u001B[0m: name 'df' is not defined"
     ]
    }
   ],
   "source": [
    "imagen = df.iloc[0]\n",
    "\n",
    "def plot_mask(imagen):\n",
    "\n",
    "    fig, ax = plt.subplots(1, 4, figsize=(15, 7))\n",
    "\n",
    "    ax[0].imshow(imagen['image'], cmap='gray')\n",
    "    ax[1].imshow(cv2.rectangle(imagen['image'], (int(imagen['X_MIN']), int(imagen['Y_MIN'])), (int(imagen['X_MAX']), int(imagen['Y_MAX'])), (255, 255, 255), thickness=-1), cmap='gray')\n",
    "    ax[2].imshow(draw_mask(shape=(imagen['height'], imagen['width']), points=imagen['POINTS']), cmap='gray')\n",
    "    ax[3].imshow(draw_mask_2(shape=(imagen['height'], imagen['width']), filename=imagen['File Name']), cmap='gray')\n",
    "\n",
    "    fig.tight_layout()"
   ],
   "metadata": {
    "collapsed": false,
    "pycharm": {
     "name": "#%%\n"
    }
   }
  },
  {
   "cell_type": "code",
   "execution_count": 73,
   "outputs": [
    {
     "data": {
      "text/plain": "((2392.0, 983.0), (2491.0, 1097.0))"
     },
     "execution_count": 73,
     "metadata": {},
     "output_type": "execute_result"
    }
   ],
   "source": [
    "(imagen['X_MIN'], imagen['Y_MIN']), (imagen['X_MAX'], imagen['Y_MAX'])"
   ],
   "metadata": {
    "collapsed": false,
    "pycharm": {
     "name": "#%%\n"
    }
   }
  },
  {
   "cell_type": "code",
   "execution_count": 96,
   "outputs": [
    {
     "data": {
      "text/plain": "array([[0., 0., 0., ..., 0., 0., 0.],\n       [0., 0., 0., ..., 0., 0., 0.],\n       [0., 0., 0., ..., 0., 0., 0.],\n       ...,\n       [0., 0., 0., ..., 0., 0., 0.],\n       [0., 0., 0., ..., 0., 0., 0.],\n       [0., 0., 0., ..., 0., 0., 0.]])"
     },
     "execution_count": 96,
     "metadata": {},
     "output_type": "execute_result"
    }
   ],
   "source": [
    "img = np.zeros(shape=(df.iloc[0]['height'], df.iloc[0]['width']))\n",
    "cv2.polylines(img, np.int32([np.array(df.iloc[0].POINTS)]), isClosed=True, color=(255, 255, 255))\n"
   ],
   "metadata": {
    "collapsed": false,
    "pycharm": {
     "name": "#%%\n"
    }
   }
  },
  {
   "cell_type": "code",
   "source": [
    "multiple_regions = df_xml['File Name'].value_counts()\n",
    "multiple_regions.drop(index=multiple_regions[multiple_regions == 1].index, inplace=True)\n",
    "\n",
    "df_xml[df_xml['File Name'].isin(multiple_regions.index)]\n"
   ],
   "metadata": {
    "collapsed": false,
    "pycharm": {
     "name": "#%%\n"
    }
   },
   "execution_count": 9,
   "outputs": [
    {
     "data": {
      "text/plain": "    File Name  X_MAX  X_MIN  Y_MAX  Y_MIN  \\\n0    20586908   2491   2392   1097    983   \n1    20586908   3328   3110   1202   1008   \n3    20586960   1889   1798   1397   1284   \n4    20586960   2700   2464    965    813   \n23   22427840   2412   1980   1294    877   \n24   22427840   2482   2343    857    691   \n25   22579730   2061   1647   1372    941   \n26   22579730   2243   2102   1018    884   \n31   22580341   2428   1914   1633   1177   \n32   22580341   2223   1830   2408   1943   \n33   22580367    494    357   2274   2109   \n34   22580367    795    278   1642   1164   \n43   22613770   2999   2850   1204   1037   \n44   22613770   2940   2456   1632   1174   \n102  51049107    545    439   1610   1483   \n103  51049107    553    351   1722   1549   \n104  51049107   1057    968   3232   3166   \n\n                                                POINTS  \n0    [[995, 2463], [987, 2453], [983, 2443], [984, ...  \n1    [[1049, 3196], [1046, 3204], [1043, 3211], [10...  \n3    [[1306, 1810], [1300, 1814], [1294, 1820], [12...  \n4    [[813, 2532], [814, 2539], [816, 2546], [819, ...  \n23   [[1160, 2004], [1171, 2014], [1180, 2024], [11...  \n24   [[817, 2389], [814, 2393], [806, 2399], [800, ...  \n25   [[1167, 1647], [1156, 1655], [1144, 1661], [11...  \n26   [[884, 2154], [888, 2145], [890, 2135], [890, ...  \n31   [[1186, 2224], [1182, 2205], [1180, 2186], [11...  \n32   [[2113, 1830], [2134, 1830], [2162, 1836], [21...  \n33   [[2209, 367], [2193, 359], [2180, 357], [2166,...  \n34   [[1413, 794], [1436, 795], [1462, 789], [1484,...  \n43   [[1087, 2901], [1086, 2906], [1081, 2909], [10...  \n44   [[1245, 2456], [1251, 2465], [1263, 2474], [12...  \n102  [[1499, 471], [1493, 477], [1489, 483], [1484,...  \n103  [[1597, 365], [1591, 370], [1585, 376], [1580,...  \n104  [[3182, 984], [3178, 992], [3173, 999], [3170,...  ",
      "text/html": "<div>\n<style scoped>\n    .dataframe tbody tr th:only-of-type {\n        vertical-align: middle;\n    }\n\n    .dataframe tbody tr th {\n        vertical-align: top;\n    }\n\n    .dataframe thead th {\n        text-align: right;\n    }\n</style>\n<table border=\"1\" class=\"dataframe\">\n  <thead>\n    <tr style=\"text-align: right;\">\n      <th></th>\n      <th>File Name</th>\n      <th>X_MAX</th>\n      <th>X_MIN</th>\n      <th>Y_MAX</th>\n      <th>Y_MIN</th>\n      <th>POINTS</th>\n    </tr>\n  </thead>\n  <tbody>\n    <tr>\n      <th>0</th>\n      <td>20586908</td>\n      <td>2491</td>\n      <td>2392</td>\n      <td>1097</td>\n      <td>983</td>\n      <td>[[995, 2463], [987, 2453], [983, 2443], [984, ...</td>\n    </tr>\n    <tr>\n      <th>1</th>\n      <td>20586908</td>\n      <td>3328</td>\n      <td>3110</td>\n      <td>1202</td>\n      <td>1008</td>\n      <td>[[1049, 3196], [1046, 3204], [1043, 3211], [10...</td>\n    </tr>\n    <tr>\n      <th>3</th>\n      <td>20586960</td>\n      <td>1889</td>\n      <td>1798</td>\n      <td>1397</td>\n      <td>1284</td>\n      <td>[[1306, 1810], [1300, 1814], [1294, 1820], [12...</td>\n    </tr>\n    <tr>\n      <th>4</th>\n      <td>20586960</td>\n      <td>2700</td>\n      <td>2464</td>\n      <td>965</td>\n      <td>813</td>\n      <td>[[813, 2532], [814, 2539], [816, 2546], [819, ...</td>\n    </tr>\n    <tr>\n      <th>23</th>\n      <td>22427840</td>\n      <td>2412</td>\n      <td>1980</td>\n      <td>1294</td>\n      <td>877</td>\n      <td>[[1160, 2004], [1171, 2014], [1180, 2024], [11...</td>\n    </tr>\n    <tr>\n      <th>24</th>\n      <td>22427840</td>\n      <td>2482</td>\n      <td>2343</td>\n      <td>857</td>\n      <td>691</td>\n      <td>[[817, 2389], [814, 2393], [806, 2399], [800, ...</td>\n    </tr>\n    <tr>\n      <th>25</th>\n      <td>22579730</td>\n      <td>2061</td>\n      <td>1647</td>\n      <td>1372</td>\n      <td>941</td>\n      <td>[[1167, 1647], [1156, 1655], [1144, 1661], [11...</td>\n    </tr>\n    <tr>\n      <th>26</th>\n      <td>22579730</td>\n      <td>2243</td>\n      <td>2102</td>\n      <td>1018</td>\n      <td>884</td>\n      <td>[[884, 2154], [888, 2145], [890, 2135], [890, ...</td>\n    </tr>\n    <tr>\n      <th>31</th>\n      <td>22580341</td>\n      <td>2428</td>\n      <td>1914</td>\n      <td>1633</td>\n      <td>1177</td>\n      <td>[[1186, 2224], [1182, 2205], [1180, 2186], [11...</td>\n    </tr>\n    <tr>\n      <th>32</th>\n      <td>22580341</td>\n      <td>2223</td>\n      <td>1830</td>\n      <td>2408</td>\n      <td>1943</td>\n      <td>[[2113, 1830], [2134, 1830], [2162, 1836], [21...</td>\n    </tr>\n    <tr>\n      <th>33</th>\n      <td>22580367</td>\n      <td>494</td>\n      <td>357</td>\n      <td>2274</td>\n      <td>2109</td>\n      <td>[[2209, 367], [2193, 359], [2180, 357], [2166,...</td>\n    </tr>\n    <tr>\n      <th>34</th>\n      <td>22580367</td>\n      <td>795</td>\n      <td>278</td>\n      <td>1642</td>\n      <td>1164</td>\n      <td>[[1413, 794], [1436, 795], [1462, 789], [1484,...</td>\n    </tr>\n    <tr>\n      <th>43</th>\n      <td>22613770</td>\n      <td>2999</td>\n      <td>2850</td>\n      <td>1204</td>\n      <td>1037</td>\n      <td>[[1087, 2901], [1086, 2906], [1081, 2909], [10...</td>\n    </tr>\n    <tr>\n      <th>44</th>\n      <td>22613770</td>\n      <td>2940</td>\n      <td>2456</td>\n      <td>1632</td>\n      <td>1174</td>\n      <td>[[1245, 2456], [1251, 2465], [1263, 2474], [12...</td>\n    </tr>\n    <tr>\n      <th>102</th>\n      <td>51049107</td>\n      <td>545</td>\n      <td>439</td>\n      <td>1610</td>\n      <td>1483</td>\n      <td>[[1499, 471], [1493, 477], [1489, 483], [1484,...</td>\n    </tr>\n    <tr>\n      <th>103</th>\n      <td>51049107</td>\n      <td>553</td>\n      <td>351</td>\n      <td>1722</td>\n      <td>1549</td>\n      <td>[[1597, 365], [1591, 370], [1585, 376], [1580,...</td>\n    </tr>\n    <tr>\n      <th>104</th>\n      <td>51049107</td>\n      <td>1057</td>\n      <td>968</td>\n      <td>3232</td>\n      <td>3166</td>\n      <td>[[3182, 984], [3178, 992], [3173, 999], [3170,...</td>\n    </tr>\n  </tbody>\n</table>\n</div>"
     },
     "execution_count": 9,
     "metadata": {},
     "output_type": "execute_result"
    }
   ]
  },
  {
   "cell_type": "code",
   "execution_count": null,
   "outputs": [],
   "source": [],
   "metadata": {
    "collapsed": false,
    "pycharm": {
     "name": "#%%\n"
    }
   }
  }
 ],
 "metadata": {
  "kernelspec": {
   "display_name": "Python 3",
   "language": "python",
   "name": "python3"
  },
  "language_info": {
   "codemirror_mode": {
    "name": "ipython",
    "version": 2
   },
   "file_extension": ".py",
   "mimetype": "text/x-python",
   "name": "python",
   "nbconvert_exporter": "python",
   "pygments_lexer": "ipython2",
   "version": "2.7.6"
  }
 },
 "nbformat": 4,
 "nbformat_minor": 0
}