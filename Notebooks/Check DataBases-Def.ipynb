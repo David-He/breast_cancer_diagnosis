{
 "cells": [
  {
   "cell_type": "code",
   "execution_count": 7,
   "metadata": {},
   "outputs": [
    {
     "name": "stderr",
     "output_type": "stream",
     "text": [
      "UsageError: Line magic function `%` not found.\n"
     ]
    }
   ],
   "source": [
    "from utils.functions import get_path, search_files, get_filename\n",
    "from utils.config import (\n",
    "    CBIS_DDSM_CONVERTED_DATA_PATH, CBIS_DDSM_PREPROCESSED_DATA_PATH, CBIS_DDSM_DB_PATH, MIAS_CONVERTED_DATA_PATH,\n",
    "    MIAS_PREPROCESSED_DATA_PATH, INBREAST_CONVERTED_DATA_PATH, INBREAST_PREPROCESSED_DATA_PATH,\n",
    "    INBREAST_DB_XML_ROI_PATH\n",
    ")\n",
    "\n",
    "from typing import io\n",
    "\n",
    "import cv2\n",
    "import plistlib\n",
    "import os\n",
    "import pydicom\n",
    "\n",
    "import pandas as pd\n",
    "import numpy as np\n",
    "import matplotlib.pyplot as plt\n",
    "\n",
    "root_path = r'C:\\Users\\USUARIO\\Desktop\\Master Data Science\\TFM\\Code\\src'\n",
    "% matplotlib inline"
   ]
  },
  {
   "cell_type": "markdown",
   "metadata": {},
   "source": [
    "#### Análisis set de datos CBIS-DDSM"
   ]
  },
  {
   "cell_type": "code",
   "execution_count": 8,
   "metadata": {
    "pycharm": {
     "name": "#%%\n"
    }
   },
   "outputs": [],
   "source": [
    "# Se obtiene el número de imagenes del dataset CBIS-DDSM\n",
    "l = []\n",
    "for file in search_files(get_path(root_path, CBIS_DDSM_CONVERTED_DATA_PATH, 'FULL', create=False), ext='png', in_subdirs=False):\n",
    "    l.append([get_filename(file)])\n",
    "\n",
    "cbis_df = pd.DataFrame(l, columns=['FILE_NAME'])"
   ]
  },
  {
   "cell_type": "code",
   "execution_count": 9,
   "metadata": {
    "pycharm": {
     "name": "#%%\n"
    }
   },
   "outputs": [],
   "source": [
    "# Se obtienen las mascaras convertidas\n",
    "l = []\n",
    "for file in search_files(get_path(root_path, CBIS_DDSM_CONVERTED_DATA_PATH, 'MASK', create=False), ext='png', in_subdirs=False):\n",
    "    l.append([get_filename(file)])\n",
    "\n",
    "cbis_mask_df = pd.DataFrame(l, columns=['MASK_FILE_NAME'])"
   ]
  },
  {
   "cell_type": "code",
   "execution_count": 10,
   "metadata": {
    "pycharm": {
     "name": "#%%\n"
    }
   },
   "outputs": [
    {
     "data": {
      "text/html": [
       "<div>\n",
       "<style scoped>\n",
       "    .dataframe tbody tr th:only-of-type {\n",
       "        vertical-align: middle;\n",
       "    }\n",
       "\n",
       "    .dataframe tbody tr th {\n",
       "        vertical-align: top;\n",
       "    }\n",
       "\n",
       "    .dataframe thead th {\n",
       "        text-align: right;\n",
       "    }\n",
       "</style>\n",
       "<table border=\"1\" class=\"dataframe\">\n",
       "  <thead>\n",
       "    <tr style=\"text-align: right;\">\n",
       "      <th></th>\n",
       "      <th>FILE_NAME</th>\n",
       "    </tr>\n",
       "  </thead>\n",
       "  <tbody>\n",
       "  </tbody>\n",
       "</table>\n",
       "</div>"
      ],
      "text/plain": [
       "Empty DataFrame\n",
       "Columns: [FILE_NAME]\n",
       "Index: []"
      ]
     },
     "execution_count": 10,
     "metadata": {},
     "output_type": "execute_result"
    }
   ],
   "source": [
    "# Imagenes que no tienen mascara convertida\n",
    "cbis_df[~cbis_df.FILE_NAME.isin(cbis_mask_df.MASK_FILE_NAME)]"
   ]
  },
  {
   "cell_type": "markdown",
   "metadata": {},
   "source": [
    "Todas las imagenes tienen máscara convertida."
   ]
  },
  {
   "cell_type": "code",
   "execution_count": 11,
   "metadata": {
    "pycharm": {
     "name": "#%%\n"
    }
   },
   "outputs": [],
   "source": [
    "# Se obtienen las mascaras procesadas\n",
    "l = []\n",
    "for file in search_files(get_path(root_path, CBIS_DDSM_PREPROCESSED_DATA_PATH, 'MASK', create=False), ext='png', in_subdirs=False):\n",
    "    l.append([get_filename(file)])\n",
    "\n",
    "cbis_mask_df_proc = pd.DataFrame(l, columns=['MASK_FILE_NAME'])"
   ]
  },
  {
   "cell_type": "code",
   "execution_count": 12,
   "metadata": {
    "pycharm": {
     "name": "#%%\n"
    }
   },
   "outputs": [
    {
     "data": {
      "text/html": [
       "<div>\n",
       "<style scoped>\n",
       "    .dataframe tbody tr th:only-of-type {\n",
       "        vertical-align: middle;\n",
       "    }\n",
       "\n",
       "    .dataframe tbody tr th {\n",
       "        vertical-align: top;\n",
       "    }\n",
       "\n",
       "    .dataframe thead th {\n",
       "        text-align: right;\n",
       "    }\n",
       "</style>\n",
       "<table border=\"1\" class=\"dataframe\">\n",
       "  <thead>\n",
       "    <tr style=\"text-align: right;\">\n",
       "      <th></th>\n",
       "      <th>FILE_NAME</th>\n",
       "    </tr>\n",
       "  </thead>\n",
       "  <tbody>\n",
       "    <tr>\n",
       "      <th>189</th>\n",
       "      <td>Mass-Test_P_01090_RIGHT_MLO</td>\n",
       "    </tr>\n",
       "    <tr>\n",
       "      <th>387</th>\n",
       "      <td>Mass-Training_P_00092_RIGHT_CC</td>\n",
       "    </tr>\n",
       "    <tr>\n",
       "      <th>685</th>\n",
       "      <td>Mass-Training_P_00596_RIGHT_CC</td>\n",
       "    </tr>\n",
       "    <tr>\n",
       "      <th>759</th>\n",
       "      <td>Mass-Training_P_00720_RIGHT_MLO</td>\n",
       "    </tr>\n",
       "    <tr>\n",
       "      <th>765</th>\n",
       "      <td>Mass-Training_P_00730_RIGHT_CC</td>\n",
       "    </tr>\n",
       "  </tbody>\n",
       "</table>\n",
       "</div>"
      ],
      "text/plain": [
       "                           FILE_NAME\n",
       "189      Mass-Test_P_01090_RIGHT_MLO\n",
       "387   Mass-Training_P_00092_RIGHT_CC\n",
       "685   Mass-Training_P_00596_RIGHT_CC\n",
       "759  Mass-Training_P_00720_RIGHT_MLO\n",
       "765   Mass-Training_P_00730_RIGHT_CC"
      ]
     },
     "execution_count": 12,
     "metadata": {},
     "output_type": "execute_result"
    }
   ],
   "source": [
    "# Imagenes que no tienen mascara procesada\n",
    "cbis_df[~cbis_df.FILE_NAME.isin(cbis_mask_df_proc.MASK_FILE_NAME)]"
   ]
  },
  {
   "cell_type": "markdown",
   "metadata": {},
   "source": [
    "Existen 5 imagenes cuya mascara no se ha procesado."
   ]
  },
  {
   "cell_type": "code",
   "execution_count": 13,
   "metadata": {
    "pycharm": {
     "name": "#%%\n"
    }
   },
   "outputs": [
    {
     "data": {
      "image/png": "[encoded data removed]",
      "text/plain": [
       "<Figure size 1080x504 with 5 Axes>"
      ]
     },
     "metadata": {
      "needs_background": "light"
     },
     "output_type": "display_data"
    }
   ],
   "source": [
    "fig, ax = plt.subplots(1, 5, figsize=(15, 7))\n",
    "\n",
    "for file, axes in zip(cbis_df[~cbis_df.FILE_NAME.isin(cbis_mask_df_proc.MASK_FILE_NAME)].FILE_NAME.values.tolist(), ax.flatten()):\n",
    "\n",
    "    axes.imshow(cv2.imread(get_path(root_path, CBIS_DDSM_CONVERTED_DATA_PATH, 'MASK', f'{file}.png')))\n",
    "\n",
    "fig.tight_layout()"
   ]
  },
  {
   "cell_type": "markdown",
   "metadata": {},
   "source": [
    "Este error es debido a que **la patología se encuentra en uno de los extremos del seno y este es recortado.**"
   ]
  },
  {
   "cell_type": "code",
   "execution_count": 14,
   "metadata": {
    "pycharm": {
     "name": "#%%\n"
    }
   },
   "outputs": [],
   "source": [
    "# Se obtiene el número de carpetas con _N de cada imagen para saber el número de máscaras individuales sin solapar\n",
    "cbis_mask_ori = pd.DataFrame(\n",
    "    data=search_files(file=f'{root_path}\\\\{CBIS_DDSM_DB_PATH}\\\\Mass-*_[0-9]', ext='dcm', in_subdirs=True),\n",
    "    columns=['MASK_FILEPATH']\n",
    ")\n",
    "cbis_mask_ori.loc[:, 'FILE_NAME'] = cbis_mask_ori.MASK_FILEPATH.apply(lambda x: \"_\".join(x.split(os.sep)[-4].split(\"_\")[:-1]))"
   ]
  },
  {
   "cell_type": "code",
   "execution_count": 15,
   "metadata": {},
   "outputs": [],
   "source": [
    "# Se suprimen los registros que no pertenecen al dataset debido a que tienen una patología benign-without-callback.\n",
    "cbis_mask_ori.drop(index=cbis_mask_ori[~cbis_mask_ori.FILE_NAME.isin(cbis_roi.FILE_NAME)].index, inplace=True)"
   ]
  },
  {
   "cell_type": "code",
   "execution_count": 16,
   "metadata": {
    "pycharm": {
     "name": "#%%\n"
    }
   },
   "outputs": [],
   "source": [
    "# Se comprueba para cada archivo si se trata de una máscara o no\n",
    "cbis_mask_ori.loc[:, 'IS_MASK'] = cbis_mask_ori.MASK_FILEPATH.apply(\n",
    "    lambda x: 1 if len(np.unique(pydicom.dcmread(x).pixel_array)) == 2 else 0)"
   ]
  },
  {
   "cell_type": "code",
   "execution_count": 17,
   "metadata": {
    "pycharm": {
     "name": "#%%\n"
    }
   },
   "outputs": [],
   "source": [
    "# Se obtienen los crops realizados en el dataframe.\n",
    "cbis_roi = pd.DataFrame(\n",
    "    data=search_files(file=f'{root_path}\\\\{CBIS_DDSM_PREPROCESSED_DATA_PATH}\\\\CROP\\\\CONF0', ext='png', in_subdirs=False),\n",
    "    columns=['ROI_FILEPATH']\n",
    ")\n",
    "cbis_roi.loc[:, 'FILE_NAME'] = cbis_roi.ROI_FILEPATH.apply(lambda x: \"_\".join(get_filename(x).split('_')[1:-1]))\n",
    "cbis_roi.loc[:, 'IMG_SIZE'] = cbis_roi.ROI_FILEPATH.apply(lambda x: cv2.cvtColor(cv2.imread(x), cv2.COLOR_BGR2GRAY).shape)"
   ]
  },
  {
   "cell_type": "code",
   "execution_count": 20,
   "metadata": {
    "pycharm": {
     "name": "#%%\n"
    }
   },
   "outputs": [
    {
     "name": "stdout",
     "output_type": "stream",
     "text": [
      "Existen un total de -2 discrepancias.\n"
     ]
    }
   ],
   "source": [
    "# Se obtiene el número de máscaras total. Este, debe de coincidir con el número de rois obtenidos\n",
    "cbis_roi_analize = cbis_mask_ori.groupby('FILE_NAME', as_index=False).IS_MASK.sum()\n",
    "\n",
    "print(f'Existen un total de {len(cbis_roi) - cbis_roi_analize.IS_MASK.sum()} discrepancias.')"
   ]
  },
  {
   "cell_type": "code",
   "execution_count": 21,
   "metadata": {
    "pycharm": {
     "name": "#%%\n"
    }
   },
   "outputs": [
    {
     "data": {
      "text/html": [
       "<div>\n",
       "<style scoped>\n",
       "    .dataframe tbody tr th:only-of-type {\n",
       "        vertical-align: middle;\n",
       "    }\n",
       "\n",
       "    .dataframe tbody tr th {\n",
       "        vertical-align: top;\n",
       "    }\n",
       "\n",
       "    .dataframe thead th {\n",
       "        text-align: right;\n",
       "    }\n",
       "</style>\n",
       "<table border=\"1\" class=\"dataframe\">\n",
       "  <thead>\n",
       "    <tr style=\"text-align: right;\">\n",
       "      <th></th>\n",
       "      <th>ROI_FILEPATH</th>\n",
       "      <th>FILE_NAME</th>\n",
       "      <th>IMG_SIZE</th>\n",
       "      <th>N_CROPS</th>\n",
       "      <th>N_MASK</th>\n",
       "      <th>DIFF</th>\n",
       "      <th>AREA</th>\n",
       "      <th>LIMIT</th>\n",
       "    </tr>\n",
       "  </thead>\n",
       "  <tbody>\n",
       "    <tr>\n",
       "      <th>0</th>\n",
       "      <td>C:\\Users\\USUARIO\\Desktop\\Master Data Science\\T...</td>\n",
       "      <td>Mass-Training_P_00778_RIGHT_MLO</td>\n",
       "      <td>(402, 314)</td>\n",
       "      <td>1</td>\n",
       "      <td>2</td>\n",
       "      <td>-1</td>\n",
       "      <td>126228</td>\n",
       "      <td>1</td>\n",
       "    </tr>\n",
       "    <tr>\n",
       "      <th>1</th>\n",
       "      <td>C:\\Users\\USUARIO\\Desktop\\Master Data Science\\T...</td>\n",
       "      <td>Mass-Training_P_00802_LEFT_MLO</td>\n",
       "      <td>(1082, 2130)</td>\n",
       "      <td>1</td>\n",
       "      <td>3</td>\n",
       "      <td>-2</td>\n",
       "      <td>2304660</td>\n",
       "      <td>1</td>\n",
       "    </tr>\n",
       "    <tr>\n",
       "      <th>2</th>\n",
       "      <td>C:\\Users\\USUARIO\\Desktop\\Master Data Science\\T...</td>\n",
       "      <td>Mass-Training_P_01262_RIGHT_CC</td>\n",
       "      <td>(164, 80)</td>\n",
       "      <td>3</td>\n",
       "      <td>2</td>\n",
       "      <td>1</td>\n",
       "      <td>13120</td>\n",
       "      <td>3</td>\n",
       "    </tr>\n",
       "    <tr>\n",
       "      <th>3</th>\n",
       "      <td>C:\\Users\\USUARIO\\Desktop\\Master Data Science\\T...</td>\n",
       "      <td>Mass-Training_P_01262_RIGHT_CC</td>\n",
       "      <td>(674, 346)</td>\n",
       "      <td>3</td>\n",
       "      <td>2</td>\n",
       "      <td>1</td>\n",
       "      <td>233204</td>\n",
       "      <td>1</td>\n",
       "    </tr>\n",
       "  </tbody>\n",
       "</table>\n",
       "</div>"
      ],
      "text/plain": [
       "                                        ROI_FILEPATH  \\\n",
       "0  C:\\Users\\USUARIO\\Desktop\\Master Data Science\\T...   \n",
       "1  C:\\Users\\USUARIO\\Desktop\\Master Data Science\\T...   \n",
       "2  C:\\Users\\USUARIO\\Desktop\\Master Data Science\\T...   \n",
       "3  C:\\Users\\USUARIO\\Desktop\\Master Data Science\\T...   \n",
       "\n",
       "                         FILE_NAME      IMG_SIZE  N_CROPS  N_MASK  DIFF  \\\n",
       "0  Mass-Training_P_00778_RIGHT_MLO    (402, 314)        1       2    -1   \n",
       "1   Mass-Training_P_00802_LEFT_MLO  (1082, 2130)        1       3    -2   \n",
       "2   Mass-Training_P_01262_RIGHT_CC     (164, 80)        3       2     1   \n",
       "3   Mass-Training_P_01262_RIGHT_CC    (674, 346)        3       2     1   \n",
       "\n",
       "      AREA  LIMIT  \n",
       "0   126228      1  \n",
       "1  2304660      1  \n",
       "2    13120      3  \n",
       "3   233204      1  "
      ]
     },
     "execution_count": 21,
     "metadata": {},
     "output_type": "execute_result"
    }
   ],
   "source": [
    "# Se comprueba cuales pueden ser los errores a partir del número de recortes por imagen y el número de máscaras por imagen\n",
    "# Estos, deberían de coincidir.\n",
    "check_rois = pd.merge(\n",
    "    left=cbis_roi.FILE_NAME.value_counts().reset_index().rename(columns={'index': 'FILE_NAME', 'FILE_NAME': 'N_CROPS'}),\n",
    "    right=cbis_roi_analize.rename(columns={'IS_MASK': 'N_MASK'}),\n",
    "    on='FILE_NAME',\n",
    "    how='left'\n",
    ")\n",
    "check_rois.loc[:, 'DIFF']=check_rois.N_CROPS - check_rois.N_MASK\n",
    "check_rois[check_rois.DIFF != 0].DIFF.sum()\n",
    "\n",
    "# Las imagenes que contienen cortes adicionales son:\n",
    "errors = pd.merge(left=cbis_roi, right=check_rois[check_rois.DIFF != 0], on='FILE_NAME')\n",
    "errors.loc[:, 'AREA'] = errors.IMG_SIZE.str[1].astype(int) * errors.IMG_SIZE.str[0].astype(int)\n",
    "errors.loc[:, 'LIMIT'] = errors.sort_values('AREA', ascending=False).groupby('FILE_NAME').cumcount() + 1\n",
    "\n",
    "errors[errors.LIMIT != errors.N_MASK]"
   ]
  },
  {
   "cell_type": "markdown",
   "metadata": {
    "pycharm": {
     "name": "#%%\n"
    }
   },
   "source": [
    "###### Conclusiones:\n",
    "\n",
    "El total de máscaras individuales son 1560. Al agruparlas, se obtienen 1473 máscaras.\n",
    "\n",
    "Los CROPS del dataset son 1553 y no 1560 porque:\n",
    "- 5 rois borrados por el crop derecho de la mascara. (-5 samples)\n",
    "- 01262_RIGHT_CC: Se generan 3 rois debido al crop derecho de la mascara. Separa una única región en 2. (+1 sample)\n",
    "- 00802_LEFT_MLO: Las 3 máscaras se solapan, resultando un único ROI. (-2 samples)\n",
    "- 00778_RIGHT_MLO: Las 2 máscaras se solapan, resultando un único ROI. (-1 sample)\n",
    "\n",
    "Las imagenes y las máscaras son 1468 y no 1473 porque:\n",
    "- 5 rois borrados antriormente por el crop derecho de la mascara. (-5)\n"
   ]
  },
  {
   "cell_type": "markdown",
   "metadata": {
    "pycharm": {
     "name": "#%% md\n"
    }
   },
   "source": [
    "#### Análisis set de datos InBreast\n",
    "\n",
    "El dataset no presenta duplicidades ni patologías ambiguas. **El número de muestras totales es de 88**"
   ]
  },
  {
   "cell_type": "code",
   "execution_count": 90,
   "metadata": {},
   "outputs": [
    {
     "name": "stdout",
     "output_type": "stream",
     "text": [
      "Número de imagenes en el dataset 88\n"
     ]
    }
   ],
   "source": [
    "# Lectura del dataframe\n",
    "path = r\"C:\\Users\\USUARIO\\Desktop\\Master Data Science\\TFM\\Code\\data\\00_RAW\\INBreast\\INbreast.xls\"\n",
    "inbreast_df = pd.read_excel(path, skipfooter=2)\n",
    "\n",
    "# Se eliminan imagenes sin patología y que no son de masas\n",
    "inbreast_df.drop(\n",
    "    index=inbreast_df[(inbreast_df['Mass '].isnull()) | (inbreast_df['Bi-Rads'].isin([1, 3, '4a']))].index, \n",
    "    inplace=True\n",
    ")\n",
    "\n",
    "print(f'Número de imagenes en el dataset {len(inbreast_df)}')"
   ]
  },
  {
   "cell_type": "code",
   "execution_count": 128,
   "metadata": {},
   "outputs": [
    {
     "name": "stdout",
     "output_type": "stream",
     "text": [
      "Total de máscaras en inbreast 116\n"
     ]
    },
    {
     "data": {
      "text/html": [
       "<div>\n",
       "<style scoped>\n",
       "    .dataframe tbody tr th:only-of-type {\n",
       "        vertical-align: middle;\n",
       "    }\n",
       "\n",
       "    .dataframe tbody tr th {\n",
       "        vertical-align: top;\n",
       "    }\n",
       "\n",
       "    .dataframe thead th {\n",
       "        text-align: right;\n",
       "    }\n",
       "</style>\n",
       "<table border=\"1\" class=\"dataframe\">\n",
       "  <thead>\n",
       "    <tr style=\"text-align: right;\">\n",
       "      <th></th>\n",
       "      <th>FILE_NAME</th>\n",
       "      <th>N_MASKS</th>\n",
       "    </tr>\n",
       "  </thead>\n",
       "  <tbody>\n",
       "    <tr>\n",
       "      <th>0</th>\n",
       "      <td>51049107</td>\n",
       "      <td>3</td>\n",
       "    </tr>\n",
       "    <tr>\n",
       "      <th>1</th>\n",
       "      <td>20586908</td>\n",
       "      <td>2</td>\n",
       "    </tr>\n",
       "    <tr>\n",
       "      <th>2</th>\n",
       "      <td>22613770</td>\n",
       "      <td>2</td>\n",
       "    </tr>\n",
       "    <tr>\n",
       "      <th>3</th>\n",
       "      <td>22580341</td>\n",
       "      <td>2</td>\n",
       "    </tr>\n",
       "    <tr>\n",
       "      <th>4</th>\n",
       "      <td>22579730</td>\n",
       "      <td>2</td>\n",
       "    </tr>\n",
       "    <tr>\n",
       "      <th>...</th>\n",
       "      <td>...</td>\n",
       "      <td>...</td>\n",
       "    </tr>\n",
       "    <tr>\n",
       "      <th>102</th>\n",
       "      <td>22613702</td>\n",
       "      <td>1</td>\n",
       "    </tr>\n",
       "    <tr>\n",
       "      <th>103</th>\n",
       "      <td>22613650</td>\n",
       "      <td>1</td>\n",
       "    </tr>\n",
       "    <tr>\n",
       "      <th>104</th>\n",
       "      <td>22580732</td>\n",
       "      <td>1</td>\n",
       "    </tr>\n",
       "    <tr>\n",
       "      <th>105</th>\n",
       "      <td>22580706</td>\n",
       "      <td>1</td>\n",
       "    </tr>\n",
       "    <tr>\n",
       "      <th>106</th>\n",
       "      <td>53587663</td>\n",
       "      <td>1</td>\n",
       "    </tr>\n",
       "  </tbody>\n",
       "</table>\n",
       "<p>107 rows × 2 columns</p>\n",
       "</div>"
      ],
      "text/plain": [
       "    FILE_NAME  N_MASKS\n",
       "0    51049107        3\n",
       "1    20586908        2\n",
       "2    22613770        2\n",
       "3    22580341        2\n",
       "4    22579730        2\n",
       "..        ...      ...\n",
       "102  22613702        1\n",
       "103  22613650        1\n",
       "104  22580732        1\n",
       "105  22580706        1\n",
       "106  53587663        1\n",
       "\n",
       "[107 rows x 2 columns]"
      ]
     },
     "execution_count": 128,
     "metadata": {},
     "output_type": "execute_result"
    }
   ],
   "source": [
    "# Se recuperan los rois de los XML.\n",
    "roi_xml_inbreast = []\n",
    "for f in search_files(INBREAST_DB_XML_ROI_PATH, ext='xml', in_subdirs=False):\n",
    "    plist_dict = plistlib.load(open(f, 'rb'), fmt=plistlib.FMT_XML)['Images'][0]\n",
    "    for roi in plist_dict['ROIs']:\n",
    "        if (roi['Name'] in ['Mass']):\n",
    "            roi_xml_inbreast.append([get_filename(f)])\n",
    "\n",
    "roi_xml_inbreast_df = pd.DataFrame(roi_xml_inbreast, columns=['FILE_NAME']).FILE_NAME.value_counts()\\\n",
    "    .reset_index().rename(columns={'index': 'FILE_NAME', 'FILE_NAME': 'N_MASKS'})\n",
    "\n",
    "print(f'Total de máscaras en inbreast {roi_xml_inbreast_df.N_MASKS.sum()}')\n",
    "\n",
    "roi_xml_inbreast_df"
   ]
  },
  {
   "cell_type": "code",
   "execution_count": 129,
   "metadata": {},
   "outputs": [
    {
     "data": {
      "text/plain": [
       "5    22614097\n",
       "7    22614150\n",
       "Name: File Name, dtype: int64"
      ]
     },
     "execution_count": 129,
     "metadata": {},
     "output_type": "execute_result"
    }
   ],
   "source": [
    "# Se comprueba si todas las imagenes tienen máscara.\n",
    "inbreast_df[~inbreast_df['File Name'].astype(str).isin(roi_xml_inbreast_df.FILE_NAME.astype(str))]['File Name']"
   ]
  },
  {
   "cell_type": "code",
   "execution_count": 113,
   "metadata": {
    "pycharm": {
     "name": "#%%\n"
    },
    "scrolled": true
   },
   "outputs": [
    {
     "name": "stdout",
     "output_type": "stream",
     "text": [
      "Total de imagenes procesadas 88\n"
     ]
    }
   ],
   "source": [
    "# Se comprueba el número de imagenes procesadas.\n",
    "inbreast_img_processed = pd.DataFrame(\n",
    "    search_files(file=f'{root_path}\\\\{INBREAST_PREPROCESSED_DATA_PATH}\\\\FULL', ext='png', in_subdirs=False), \n",
    "    columns=['FILEPATH']\n",
    ")\n",
    "\n",
    "inbreast_img_processed.loc[:, 'FILE_NAME'] = inbreast_img_processed.FILEPATH.apply(lambda x: get_filename(x))\n",
    "print(f'Total de imagenes procesadas {len(inbreast_img_processed)}')"
   ]
  },
  {
   "cell_type": "markdown",
   "metadata": {},
   "source": [
    "El número de imagenes procesadas es de 88, pero en el dataset, únicamente existen 86 imagenes porque se descartan las que no tienen máscara."
   ]
  },
  {
   "cell_type": "code",
   "execution_count": 112,
   "metadata": {},
   "outputs": [
    {
     "name": "stdout",
     "output_type": "stream",
     "text": [
      "Total de mascaras procesadas 86\n"
     ]
    }
   ],
   "source": [
    "# Se comprueba el número de máscaras procesadas\n",
    "inbreast_mask_processed = pd.DataFrame(\n",
    "    search_files(file=f'{root_path}\\\\{INBREAST_PREPROCESSED_DATA_PATH}\\\\MASK', ext='png', in_subdirs=False), \n",
    "    columns=['FILEPATH']\n",
    ")\n",
    "\n",
    "inbreast_mask_processed.loc[:, 'FILE_NAME'] = inbreast_mask_processed.FILEPATH.apply(lambda x: get_filename(x))\n",
    "print(f'Total de mascaras procesadas {len(inbreast_mask_processed)}')"
   ]
  },
  {
   "cell_type": "code",
   "execution_count": 116,
   "metadata": {},
   "outputs": [
    {
     "name": "stdout",
     "output_type": "stream",
     "text": [
      "Total de mascaras procesadas 94\n"
     ]
    }
   ],
   "source": [
    "# Se comprueba el número de recortes\n",
    "inbreast_roi_processed = pd.DataFrame(\n",
    "    search_files(file=f'{root_path}\\\\{INBREAST_PREPROCESSED_DATA_PATH}\\\\CROP\\\\CONF0', ext='png', in_subdirs=False), \n",
    "    columns=['FILEPATH']\n",
    ")\n",
    "\n",
    "inbreast_roi_processed.loc[:, 'FILE_NAME'] = inbreast_roi_processed.FILEPATH.apply(\n",
    "    lambda x: \"_\".join(get_filename(x).split(\"_\")[1:-1]))\n",
    "print(f'Total de mascaras procesadas {len(inbreast_roi_processed)}')"
   ]
  },
  {
   "cell_type": "code",
   "execution_count": 135,
   "metadata": {},
   "outputs": [
    {
     "data": {
      "text/html": [
       "<div>\n",
       "<style scoped>\n",
       "    .dataframe tbody tr th:only-of-type {\n",
       "        vertical-align: middle;\n",
       "    }\n",
       "\n",
       "    .dataframe tbody tr th {\n",
       "        vertical-align: top;\n",
       "    }\n",
       "\n",
       "    .dataframe thead th {\n",
       "        text-align: right;\n",
       "    }\n",
       "</style>\n",
       "<table border=\"1\" class=\"dataframe\">\n",
       "  <thead>\n",
       "    <tr style=\"text-align: right;\">\n",
       "      <th></th>\n",
       "      <th>FILE_NAME</th>\n",
       "      <th>N_CROPS</th>\n",
       "      <th>N_MASKS</th>\n",
       "      <th>pathology</th>\n",
       "      <th>tipo</th>\n",
       "    </tr>\n",
       "  </thead>\n",
       "  <tbody>\n",
       "    <tr>\n",
       "      <th>0</th>\n",
       "      <td>51049107</td>\n",
       "      <td>2.00</td>\n",
       "      <td>3</td>\n",
       "      <td>2</td>\n",
       "      <td>X</td>\n",
       "    </tr>\n",
       "    <tr>\n",
       "      <th>9</th>\n",
       "      <td>50994354</td>\n",
       "      <td>NaN</td>\n",
       "      <td>1</td>\n",
       "      <td>4a</td>\n",
       "      <td>X</td>\n",
       "    </tr>\n",
       "    <tr>\n",
       "      <th>18</th>\n",
       "      <td>24065584</td>\n",
       "      <td>NaN</td>\n",
       "      <td>1</td>\n",
       "      <td>4c</td>\n",
       "      <td>NaN</td>\n",
       "    </tr>\n",
       "    <tr>\n",
       "      <th>30</th>\n",
       "      <td>50994273</td>\n",
       "      <td>NaN</td>\n",
       "      <td>1</td>\n",
       "      <td>4a</td>\n",
       "      <td>X</td>\n",
       "    </tr>\n",
       "    <tr>\n",
       "      <th>40</th>\n",
       "      <td>51048765</td>\n",
       "      <td>NaN</td>\n",
       "      <td>1</td>\n",
       "      <td>3</td>\n",
       "      <td>X</td>\n",
       "    </tr>\n",
       "    <tr>\n",
       "      <th>41</th>\n",
       "      <td>51048738</td>\n",
       "      <td>NaN</td>\n",
       "      <td>1</td>\n",
       "      <td>3</td>\n",
       "      <td>X</td>\n",
       "    </tr>\n",
       "    <tr>\n",
       "      <th>48</th>\n",
       "      <td>50997515</td>\n",
       "      <td>NaN</td>\n",
       "      <td>1</td>\n",
       "      <td>4a</td>\n",
       "      <td>X</td>\n",
       "    </tr>\n",
       "    <tr>\n",
       "      <th>49</th>\n",
       "      <td>50997461</td>\n",
       "      <td>NaN</td>\n",
       "      <td>1</td>\n",
       "      <td>4a</td>\n",
       "      <td>X</td>\n",
       "    </tr>\n",
       "    <tr>\n",
       "      <th>53</th>\n",
       "      <td>22678646</td>\n",
       "      <td>NaN</td>\n",
       "      <td>1</td>\n",
       "      <td>3</td>\n",
       "      <td>X</td>\n",
       "    </tr>\n",
       "    <tr>\n",
       "      <th>55</th>\n",
       "      <td>22678694</td>\n",
       "      <td>NaN</td>\n",
       "      <td>1</td>\n",
       "      <td>3</td>\n",
       "      <td>X</td>\n",
       "    </tr>\n",
       "    <tr>\n",
       "      <th>58</th>\n",
       "      <td>20588308</td>\n",
       "      <td>NaN</td>\n",
       "      <td>1</td>\n",
       "      <td>3</td>\n",
       "      <td>X</td>\n",
       "    </tr>\n",
       "    <tr>\n",
       "      <th>59</th>\n",
       "      <td>22580244</td>\n",
       "      <td>NaN</td>\n",
       "      <td>1</td>\n",
       "      <td>3</td>\n",
       "      <td>X</td>\n",
       "    </tr>\n",
       "    <tr>\n",
       "      <th>60</th>\n",
       "      <td>22580192</td>\n",
       "      <td>NaN</td>\n",
       "      <td>1</td>\n",
       "      <td>3</td>\n",
       "      <td>X</td>\n",
       "    </tr>\n",
       "    <tr>\n",
       "      <th>65</th>\n",
       "      <td>20588680</td>\n",
       "      <td>NaN</td>\n",
       "      <td>1</td>\n",
       "      <td>3</td>\n",
       "      <td>X</td>\n",
       "    </tr>\n",
       "    <tr>\n",
       "      <th>68</th>\n",
       "      <td>20588334</td>\n",
       "      <td>NaN</td>\n",
       "      <td>1</td>\n",
       "      <td>3</td>\n",
       "      <td>X</td>\n",
       "    </tr>\n",
       "    <tr>\n",
       "      <th>70</th>\n",
       "      <td>22670809</td>\n",
       "      <td>NaN</td>\n",
       "      <td>1</td>\n",
       "      <td>4a</td>\n",
       "      <td>X</td>\n",
       "    </tr>\n",
       "    <tr>\n",
       "      <th>74</th>\n",
       "      <td>20587928</td>\n",
       "      <td>NaN</td>\n",
       "      <td>1</td>\n",
       "      <td>3</td>\n",
       "      <td>X</td>\n",
       "    </tr>\n",
       "    <tr>\n",
       "      <th>75</th>\n",
       "      <td>20587902</td>\n",
       "      <td>NaN</td>\n",
       "      <td>1</td>\n",
       "      <td>3</td>\n",
       "      <td>X</td>\n",
       "    </tr>\n",
       "    <tr>\n",
       "      <th>76</th>\n",
       "      <td>20587810</td>\n",
       "      <td>NaN</td>\n",
       "      <td>1</td>\n",
       "      <td>3</td>\n",
       "      <td>X</td>\n",
       "    </tr>\n",
       "    <tr>\n",
       "      <th>77</th>\n",
       "      <td>20587758</td>\n",
       "      <td>NaN</td>\n",
       "      <td>1</td>\n",
       "      <td>3</td>\n",
       "      <td>X</td>\n",
       "    </tr>\n",
       "    <tr>\n",
       "      <th>93</th>\n",
       "      <td>22614568</td>\n",
       "      <td>NaN</td>\n",
       "      <td>1</td>\n",
       "      <td>4a</td>\n",
       "      <td>X</td>\n",
       "    </tr>\n",
       "    <tr>\n",
       "      <th>94</th>\n",
       "      <td>22614522</td>\n",
       "      <td>NaN</td>\n",
       "      <td>1</td>\n",
       "      <td>4a</td>\n",
       "      <td>X</td>\n",
       "    </tr>\n",
       "  </tbody>\n",
       "</table>\n",
       "</div>"
      ],
      "text/plain": [
       "   FILE_NAME  N_CROPS  N_MASKS pathology tipo\n",
       "0   51049107     2.00        3         2    X\n",
       "9   50994354      NaN        1        4a    X\n",
       "18  24065584      NaN        1        4c  NaN\n",
       "30  50994273      NaN        1        4a    X\n",
       "40  51048765      NaN        1         3    X\n",
       "41  51048738      NaN        1         3    X\n",
       "48  50997515      NaN        1        4a    X\n",
       "49  50997461      NaN        1        4a    X\n",
       "53  22678646      NaN        1         3    X\n",
       "55  22678694      NaN        1         3    X\n",
       "58  20588308      NaN        1         3    X\n",
       "59  22580244      NaN        1         3    X\n",
       "60  22580192      NaN        1         3    X\n",
       "65  20588680      NaN        1         3    X\n",
       "68  20588334      NaN        1         3    X\n",
       "70  22670809      NaN        1        4a    X\n",
       "74  20587928      NaN        1         3    X\n",
       "75  20587902      NaN        1         3    X\n",
       "76  20587810      NaN        1         3    X\n",
       "77  20587758      NaN        1         3    X\n",
       "93  22614568      NaN        1        4a    X\n",
       "94  22614522      NaN        1        4a    X"
      ]
     },
     "execution_count": 135,
     "metadata": {},
     "output_type": "execute_result"
    }
   ],
   "source": [
    "errors = pd.merge(\n",
    "    left=inbreast_roi_processed.FILE_NAME.value_counts().reset_index().\\\n",
    "        rename(columns={'index': 'FILE_NAME', 'FILE_NAME': 'N_CROPS'}),\n",
    "    right=roi_xml_inbreast_df,\n",
    "    on='FILE_NAME',\n",
    "    how='right'\n",
    ")\n",
    "errors.loc[:, 'pathology'] = errors.FILE_NAME.astype(str).\\\n",
    "    map(pd.read_excel(path, skipfooter=2, dtype=str).set_index('File Name').to_dict()['Bi-Rads'])\n",
    "\n",
    "errors.loc[:, 'tipo'] = errors.FILE_NAME.astype(str).\\\n",
    "    map(pd.read_excel(path, skipfooter=2, dtype=str).set_index('File Name').to_dict()['Mass '])\n",
    "\n",
    "errors[(errors.N_CROPS != errors.N_MASKS)]"
   ]
  },
  {
   "cell_type": "markdown",
   "metadata": {},
   "source": [
    "###### Conclusiones:\n",
    "\n",
    "El número de máscaras y de imagenes procesadas es de 86 y no de 88 porque:\n",
    "- 2 muestras no contienen anotaciones en el XML.\n",
    "\n",
    "El número de ROIs es de 94 y no de 116 porque:\n",
    "- 20 recortes contienen patología 3 o 4a (-20)\n",
    "- existe overlap en una muestra (51049107) (-1)\n",
    "- La imagen 24065584 no está clasificada como masa en el excel"
   ]
  },
  {
   "cell_type": "code",
   "execution_count": 131,
   "metadata": {},
   "outputs": [
    {
     "data": {
      "text/plain": [
       "<matplotlib.image.AxesImage at 0x153ed7126c8>"
      ]
     },
     "execution_count": 131,
     "metadata": {},
     "output_type": "execute_result"
    },
    {
     "data": {
      "image/png": "[encoded data removed]",
      "text/plain": [
       "<Figure size 432x288 with 1 Axes>"
      ]
     },
     "metadata": {
      "needs_background": "light"
     },
     "output_type": "display_data"
    }
   ],
   "source": [
    "plt.imshow(cv2.imread(f'{root_path}\\\\{INBREAST_PREPROCESSED_DATA_PATH}\\\\MASK\\\\51049107.png'))"
   ]
  },
  {
   "cell_type": "markdown",
   "metadata": {
    "pycharm": {
     "name": "#%% md\n"
    }
   },
   "source": [
    "#### Análisis set de datos MIAS\n",
    "\n",
    "El dataset presenta duplicidades y patologías ambiguas. **El número de muestras totales es de 74**"
   ]
  },
  {
   "cell_type": "code",
   "execution_count": 32,
   "metadata": {},
   "outputs": [
    {
     "name": "stdout",
     "output_type": "stream",
     "text": [
      "Número de imagenes en el dataset 74\n"
     ]
    }
   ],
   "source": [
    "# Lectura del dataframe\n",
    "path = r\"C:\\Users\\USUARIO\\Desktop\\Master Data Science\\TFM\\Code\\data\\00_RAW\\MIAS\\Info.txt\"\n",
    "mias_df = pd.read_csv(\n",
    "    path, sep=' ', skiprows=102, skipfooter=2, engine='python',\n",
    "    names=['FILE_NAME', 'BREAST_TISSUE', 'ABNORMALITY_TYPE', 'PATHOLOGY', 'X_CORD', 'Y_CORD', 'RAD']\n",
    ")\n",
    "\n",
    "# Se realiza el limpiado de imagenes sin patología y abnormalidades distintas a masas\n",
    "mias_df.drop(\n",
    "    index=mias_df[(~mias_df.ABNORMALITY_TYPE.isin(['CIRC', 'SPIC', 'MISC', 'ASYM'])) | (mias_df.PATHOLOGY.isnull())].index, \n",
    "    inplace=True\n",
    ")\n",
    "\n",
    "print(f'Número de imagenes en el dataset {len(mias_df)}')"
   ]
  },
  {
   "cell_type": "code",
   "execution_count": 33,
   "metadata": {},
   "outputs": [
    {
     "data": {
      "text/plain": [
       "5      mdb005\n",
       "133    mdb132\n",
       "146    mdb144\n",
       "Name: FILE_NAME, dtype: object"
      ]
     },
     "execution_count": 33,
     "metadata": {},
     "output_type": "execute_result"
    }
   ],
   "source": [
    "mias_df[mias_df.FILE_NAME.duplicated()].FILE_NAME"
   ]
  },
  {
   "cell_type": "code",
   "execution_count": 37,
   "metadata": {},
   "outputs": [
    {
     "data": {
      "text/plain": [
       "FILE_NAME\n",
       "mdb144    2\n",
       "Name: PATHOLOGY, dtype: int64"
      ]
     },
     "execution_count": 37,
     "metadata": {},
     "output_type": "execute_result"
    }
   ],
   "source": [
    "ambiguous_pathology = mias_df.groupby(['FILE_NAME']).PATHOLOGY.nunique()\n",
    "ambiguous_pathology[ambiguous_pathology > 1]"
   ]
  },
  {
   "cell_type": "code",
   "execution_count": 44,
   "metadata": {},
   "outputs": [
    {
     "data": {
      "text/plain": [
       "59    mdb059\n",
       "Name: FILE_NAME, dtype: object"
      ]
     },
     "execution_count": 44,
     "metadata": {},
     "output_type": "execute_result"
    }
   ],
   "source": [
    "mias_df[mias_df[['X_CORD', 'Y_CORD', 'RAD']].applymap(lambda x: pd.to_numeric(x, errors='coerce')).isna().any(axis=1)].FILE_NAME"
   ]
  },
  {
   "cell_type": "code",
   "execution_count": 61,
   "metadata": {},
   "outputs": [],
   "source": [
    "# Se comprueba el número de imagenes procesadas.\n",
    "mias_img_processed = pd.DataFrame(\n",
    "    search_files(file=f'{root_path}\\\\{MIAS_PREPROCESSED_DATA_PATH}\\\\FULL', ext='png', in_subdirs=False), \n",
    "    columns=['FILEPATH']\n",
    ")\n",
    "\n",
    "mias_img_processed.loc[:, 'FILE_NAME'] = mias_img_processed.FILEPATH.apply(lambda x: get_filename(x))"
   ]
  },
  {
   "cell_type": "code",
   "execution_count": 69,
   "metadata": {},
   "outputs": [],
   "source": [
    "# Se comprueba el número de recortes\n",
    "mias_roi_processed = pd.DataFrame(\n",
    "    search_files(file=f'{root_path}\\\\{MIAS_PREPROCESSED_DATA_PATH}\\\\CROP\\\\CONF0', ext='png', in_subdirs=False), \n",
    "    columns=['FILEPATH']\n",
    ")\n",
    "\n",
    "mias_roi_processed.loc[:, 'FILE_NAME'] = mias_roi_processed.FILEPATH.apply(lambda x: \"_\".join(get_filename(x).split(\"_\")[1:-1]))"
   ]
  },
  {
   "cell_type": "code",
   "execution_count": 71,
   "metadata": {},
   "outputs": [],
   "source": [
    "# Se comprueba el número de recortes\n",
    "mias_mask_processed = pd.DataFrame(\n",
    "    search_files(file=f'{root_path}\\\\{MIAS_PREPROCESSED_DATA_PATH}\\\\MASK', ext='png', in_subdirs=False), \n",
    "    columns=['FILEPATH']\n",
    ")\n",
    "\n",
    "mias_mask_processed.loc[:, 'FILE_NAME'] = mias_mask_processed.FILEPATH.apply(lambda x: get_filename(x))"
   ]
  },
  {
   "cell_type": "code",
   "execution_count": 72,
   "metadata": {},
   "outputs": [
    {
     "data": {
      "text/html": [
       "<div>\n",
       "<style scoped>\n",
       "    .dataframe tbody tr th:only-of-type {\n",
       "        vertical-align: middle;\n",
       "    }\n",
       "\n",
       "    .dataframe tbody tr th {\n",
       "        vertical-align: top;\n",
       "    }\n",
       "\n",
       "    .dataframe thead th {\n",
       "        text-align: right;\n",
       "    }\n",
       "</style>\n",
       "<table border=\"1\" class=\"dataframe\">\n",
       "  <thead>\n",
       "    <tr style=\"text-align: right;\">\n",
       "      <th></th>\n",
       "      <th>DESC</th>\n",
       "      <th>FILE_NAME</th>\n",
       "      <th>MOTIVO</th>\n",
       "    </tr>\n",
       "  </thead>\n",
       "  <tbody>\n",
       "    <tr>\n",
       "      <th>59</th>\n",
       "      <td>IMG NO PROCESADA</td>\n",
       "      <td>mdb059</td>\n",
       "      <td>no tiene localización de la patología</td>\n",
       "    </tr>\n",
       "    <tr>\n",
       "      <th>145</th>\n",
       "      <td>IMG NO PROCESADA</td>\n",
       "      <td>mdb144</td>\n",
       "      <td>patología ambigua</td>\n",
       "    </tr>\n",
       "    <tr>\n",
       "      <th>146</th>\n",
       "      <td>IMG NO PROCESADA</td>\n",
       "      <td>mdb144</td>\n",
       "      <td>patología ambigua</td>\n",
       "    </tr>\n",
       "    <tr>\n",
       "      <th>59</th>\n",
       "      <td>ROI NO PROCESADO</td>\n",
       "      <td>mdb059</td>\n",
       "      <td>no tiene localización de la patología</td>\n",
       "    </tr>\n",
       "    <tr>\n",
       "      <th>59</th>\n",
       "      <td>MASK NO PROCESADA</td>\n",
       "      <td>mdb059</td>\n",
       "      <td>no tiene localización de la patología</td>\n",
       "    </tr>\n",
       "    <tr>\n",
       "      <th>145</th>\n",
       "      <td>MASK NO PROCESADA</td>\n",
       "      <td>mdb144</td>\n",
       "      <td>patología ambigua</td>\n",
       "    </tr>\n",
       "    <tr>\n",
       "      <th>146</th>\n",
       "      <td>MASK NO PROCESADA</td>\n",
       "      <td>mdb144</td>\n",
       "      <td>patología ambigua</td>\n",
       "    </tr>\n",
       "  </tbody>\n",
       "</table>\n",
       "</div>"
      ],
      "text/plain": [
       "                  DESC FILE_NAME                                 MOTIVO\n",
       "59    IMG NO PROCESADA    mdb059  no tiene localización de la patología\n",
       "145   IMG NO PROCESADA    mdb144                      patología ambigua\n",
       "146   IMG NO PROCESADA    mdb144                      patología ambigua\n",
       "59    ROI NO PROCESADO    mdb059  no tiene localización de la patología\n",
       "59   MASK NO PROCESADA    mdb059  no tiene localización de la patología\n",
       "145  MASK NO PROCESADA    mdb144                      patología ambigua\n",
       "146  MASK NO PROCESADA    mdb144                      patología ambigua"
      ]
     },
     "execution_count": 72,
     "metadata": {},
     "output_type": "execute_result"
    }
   ],
   "source": [
    "errors = pd.concat([\n",
    "    mias_df[~mias_df.FILE_NAME.isin(mias_img_processed.FILE_NAME)].assign(DESC='IMG NO PROCESADA')[['DESC', 'FILE_NAME']],\n",
    "    mias_df[~mias_df.FILE_NAME.isin(mias_roi_processed.FILE_NAME)].assign(DESC='ROI NO PROCESADO')[['DESC', 'FILE_NAME']],\n",
    "    mias_df[~mias_df.FILE_NAME.isin(mias_mask_processed.FILE_NAME)].assign(DESC='MASK NO PROCESADA')[['DESC', 'FILE_NAME']],\n",
    "])\n",
    "\n",
    "errors.loc[:, 'MOTIVO'] = errors.FILE_NAME.map({\n",
    "    'mdb059': 'no tiene localización de la patología',\n",
    "    'mdb144': 'patología ambigua',\n",
    "    'mdb005': '2 patologías',\n",
    "    'mdb132': '2 patologías'\n",
    "})\n",
    "errors"
   ]
  },
  {
   "cell_type": "code",
   "execution_count": 73,
   "metadata": {},
   "outputs": [
    {
     "name": "stdout",
     "output_type": "stream",
     "text": [
      "69 imagenes procesadas\n",
      "69 máscaras procesadas\n",
      "72 rois procesados\n"
     ]
    }
   ],
   "source": [
    "print(f'{len(mias_img_processed)} imagenes procesadas')\n",
    "print(f'{len(mias_mask_processed)} máscaras procesadas')\n",
    "print(f'{len(mias_roi_processed)} rois procesados')"
   ]
  },
  {
   "cell_type": "markdown",
   "metadata": {},
   "source": [
    "###### Conclusiones:\n",
    "\n",
    "El total de máscaras e imagenes procesadas es de 69 y no de 74 porque:\n",
    "- 1 zona sin localización de la patología (-1).\n",
    "- 1 muestra con patología ambígua (-2)\n",
    "- 2 muestras duplicadas que solo se representan una vez (-2).\n",
    "\n",
    "El total de ROIs es de 72 y no de 74 porque:\n",
    "- 1 zona sin localización de la patología (-1).\n",
    "- 1 overlap entre rois de una máscara (-1) (mdb005)."
   ]
  },
  {
   "cell_type": "code",
   "execution_count": 74,
   "metadata": {},
   "outputs": [
    {
     "data": {
      "text/plain": [
       "<matplotlib.image.AxesImage at 0x153eccf98c8>"
      ]
     },
     "execution_count": 74,
     "metadata": {},
     "output_type": "execute_result"
    },
    {
     "data": {
      "image/png": "[encoded data removed]",
      "text/plain": [
       "<Figure size 432x288 with 1 Axes>"
      ]
     },
     "metadata": {
      "needs_background": "light"
     },
     "output_type": "display_data"
    }
   ],
   "source": [
    "plt.imshow(cv2.imread(f'{root_path}\\\\{MIAS_PREPROCESSED_DATA_PATH}\\\\MASK\\\\mdb005.png'))"
   ]
  },
  {
   "cell_type": "markdown",
   "metadata": {},
   "source": [
    "###### Analisis tamaños de las imagenes"
   ]
  },
  {
   "cell_type": "code",
   "execution_count": 27,
   "metadata": {},
   "outputs": [
    {
     "data": {
      "text/html": [
       "<div>\n",
       "<style scoped>\n",
       "    .dataframe tbody tr th:only-of-type {\n",
       "        vertical-align: middle;\n",
       "    }\n",
       "\n",
       "    .dataframe tbody tr th {\n",
       "        vertical-align: top;\n",
       "    }\n",
       "\n",
       "    .dataframe thead tr th {\n",
       "        text-align: left;\n",
       "    }\n",
       "</style>\n",
       "<table border=\"1\" class=\"dataframe\">\n",
       "  <thead>\n",
       "    <tr>\n",
       "      <th>db</th>\n",
       "      <th colspan=\"2\" halign=\"left\">CBIS</th>\n",
       "      <th colspan=\"2\" halign=\"left\">InBreast</th>\n",
       "      <th colspan=\"2\" halign=\"left\">MIAS</th>\n",
       "    </tr>\n",
       "    <tr>\n",
       "      <th></th>\n",
       "      <th>width</th>\n",
       "      <th>height</th>\n",
       "      <th>width</th>\n",
       "      <th>height</th>\n",
       "      <th>width</th>\n",
       "      <th>height</th>\n",
       "    </tr>\n",
       "  </thead>\n",
       "  <tbody>\n",
       "    <tr>\n",
       "      <th>count</th>\n",
       "      <td>1,473.00</td>\n",
       "      <td>1,473.00</td>\n",
       "      <td>88.00</td>\n",
       "      <td>88.00</td>\n",
       "      <td>69.00</td>\n",
       "      <td>69.00</td>\n",
       "    </tr>\n",
       "    <tr>\n",
       "      <th>mean</th>\n",
       "      <td>2,063.24</td>\n",
       "      <td>4,625.03</td>\n",
       "      <td>1,468.99</td>\n",
       "      <td>3,069.19</td>\n",
       "      <td>517.86</td>\n",
       "      <td>913.45</td>\n",
       "    </tr>\n",
       "    <tr>\n",
       "      <th>std</th>\n",
       "      <td>592.28</td>\n",
       "      <td>741.92</td>\n",
       "      <td>376.34</td>\n",
       "      <td>418.08</td>\n",
       "      <td>115.25</td>\n",
       "      <td>46.02</td>\n",
       "    </tr>\n",
       "    <tr>\n",
       "      <th>min</th>\n",
       "      <td>502.00</td>\n",
       "      <td>2,289.00</td>\n",
       "      <td>656.00</td>\n",
       "      <td>1,849.00</td>\n",
       "      <td>320.00</td>\n",
       "      <td>700.00</td>\n",
       "    </tr>\n",
       "    <tr>\n",
       "      <th>10%</th>\n",
       "      <td>1,321.40</td>\n",
       "      <td>3,717.60</td>\n",
       "      <td>1,020.50</td>\n",
       "      <td>2,567.30</td>\n",
       "      <td>363.00</td>\n",
       "      <td>856.20</td>\n",
       "    </tr>\n",
       "    <tr>\n",
       "      <th>20%</th>\n",
       "      <td>1,552.60</td>\n",
       "      <td>4,028.00</td>\n",
       "      <td>1,142.40</td>\n",
       "      <td>2,769.80</td>\n",
       "      <td>417.60</td>\n",
       "      <td>883.40</td>\n",
       "    </tr>\n",
       "    <tr>\n",
       "      <th>30%</th>\n",
       "      <td>1,721.20</td>\n",
       "      <td>4,194.60</td>\n",
       "      <td>1,241.30</td>\n",
       "      <td>2,863.60</td>\n",
       "      <td>444.00</td>\n",
       "      <td>904.00</td>\n",
       "    </tr>\n",
       "    <tr>\n",
       "      <th>40%</th>\n",
       "      <td>1,871.00</td>\n",
       "      <td>4,321.00</td>\n",
       "      <td>1,381.60</td>\n",
       "      <td>2,966.60</td>\n",
       "      <td>467.20</td>\n",
       "      <td>924.60</td>\n",
       "    </tr>\n",
       "    <tr>\n",
       "      <th>50%</th>\n",
       "      <td>2,028.00</td>\n",
       "      <td>4,585.00</td>\n",
       "      <td>1,461.00</td>\n",
       "      <td>3,048.00</td>\n",
       "      <td>514.00</td>\n",
       "      <td>943.00</td>\n",
       "    </tr>\n",
       "    <tr>\n",
       "      <th>60%</th>\n",
       "      <td>2,182.60</td>\n",
       "      <td>4,845.00</td>\n",
       "      <td>1,558.20</td>\n",
       "      <td>3,135.20</td>\n",
       "      <td>559.60</td>\n",
       "      <td>943.00</td>\n",
       "    </tr>\n",
       "    <tr>\n",
       "      <th>70%</th>\n",
       "      <td>2,332.00</td>\n",
       "      <td>4,968.00</td>\n",
       "      <td>1,641.20</td>\n",
       "      <td>3,289.60</td>\n",
       "      <td>586.00</td>\n",
       "      <td>943.00</td>\n",
       "    </tr>\n",
       "    <tr>\n",
       "      <th>80%</th>\n",
       "      <td>2,542.80</td>\n",
       "      <td>5,145.60</td>\n",
       "      <td>1,727.80</td>\n",
       "      <td>3,418.60</td>\n",
       "      <td>604.20</td>\n",
       "      <td>943.00</td>\n",
       "    </tr>\n",
       "    <tr>\n",
       "      <th>90%</th>\n",
       "      <td>2,843.80</td>\n",
       "      <td>5,707.40</td>\n",
       "      <td>1,927.20</td>\n",
       "      <td>3,757.00</td>\n",
       "      <td>656.80</td>\n",
       "      <td>943.00</td>\n",
       "    </tr>\n",
       "    <tr>\n",
       "      <th>max</th>\n",
       "      <td>5,016.00</td>\n",
       "      <td>6,363.00</td>\n",
       "      <td>2,597.00</td>\n",
       "      <td>3,757.00</td>\n",
       "      <td>870.00</td>\n",
       "      <td>943.00</td>\n",
       "    </tr>\n",
       "  </tbody>\n",
       "</table>\n",
       "</div>"
      ],
      "text/plain": [
       "db        CBIS          InBreast            MIAS       \n",
       "         width   height    width   height  width height\n",
       "count 1,473.00 1,473.00    88.00    88.00  69.00  69.00\n",
       "mean  2,063.24 4,625.03 1,468.99 3,069.19 517.86 913.45\n",
       "std     592.28   741.92   376.34   418.08 115.25  46.02\n",
       "min     502.00 2,289.00   656.00 1,849.00 320.00 700.00\n",
       "10%   1,321.40 3,717.60 1,020.50 2,567.30 363.00 856.20\n",
       "20%   1,552.60 4,028.00 1,142.40 2,769.80 417.60 883.40\n",
       "30%   1,721.20 4,194.60 1,241.30 2,863.60 444.00 904.00\n",
       "40%   1,871.00 4,321.00 1,381.60 2,966.60 467.20 924.60\n",
       "50%   2,028.00 4,585.00 1,461.00 3,048.00 514.00 943.00\n",
       "60%   2,182.60 4,845.00 1,558.20 3,135.20 559.60 943.00\n",
       "70%   2,332.00 4,968.00 1,641.20 3,289.60 586.00 943.00\n",
       "80%   2,542.80 5,145.60 1,727.80 3,418.60 604.20 943.00\n",
       "90%   2,843.80 5,707.40 1,927.20 3,757.00 656.80 943.00\n",
       "max   5,016.00 6,363.00 2,597.00 3,757.00 870.00 943.00"
      ]
     },
     "execution_count": 27,
     "metadata": {},
     "output_type": "execute_result"
    }
   ],
   "source": [
    "pd.options.display.float_format = '{:,.2f}'.format\n",
    "\n",
    "# Se obtienen las imagenes procesadas.\n",
    "l = []\n",
    "for path, db in zip([CBIS_DDSM_PREPROCESSED_DATA_PATH, INBREAST_PREPROCESSED_DATA_PATH, MIAS_PREPROCESSED_DATA_PATH], \n",
    "                    ['CBIS', 'InBreast', 'MIAS']):\n",
    "    df = pd.DataFrame(search_files(file=f'{root_path}\\\\{path}\\\\FULL', ext='png', in_subdirs=False), columns=['FILEPATH'])\n",
    "    df.loc[:, 'IMG_SIZE'] = df.FILEPATH.apply(lambda x: cv2.cvtColor(cv2.imread(x), cv2.COLOR_BGR2GRAY).shape)\n",
    "    df.loc[:, 'db'] = db\n",
    "    df.loc[:, 'width'] = df.IMG_SIZE.str[1].astype(int)\n",
    "    df.loc[:, 'height'] = df.IMG_SIZE.str[0].astype(int)\n",
    "    l.append(df[['db', 'width', 'height']])\n",
    "\n",
    "pd.concat(l).groupby('db').describe(percentiles=[.1, .2, .3, .4, .5, .6, .7, .8, .9]).T.unstack(level=0)"
   ]
  },
  {
   "cell_type": "markdown",
   "metadata": {},
   "source": [
    "###### Analisis tamaños de los ROIS"
   ]
  },
  {
   "cell_type": "code",
   "execution_count": 28,
   "metadata": {},
   "outputs": [
    {
     "data": {
      "text/html": [
       "<div>\n",
       "<style scoped>\n",
       "    .dataframe tbody tr th:only-of-type {\n",
       "        vertical-align: middle;\n",
       "    }\n",
       "\n",
       "    .dataframe tbody tr th {\n",
       "        vertical-align: top;\n",
       "    }\n",
       "\n",
       "    .dataframe thead tr th {\n",
       "        text-align: left;\n",
       "    }\n",
       "</style>\n",
       "<table border=\"1\" class=\"dataframe\">\n",
       "  <thead>\n",
       "    <tr>\n",
       "      <th>db</th>\n",
       "      <th colspan=\"2\" halign=\"left\">CBIS</th>\n",
       "      <th colspan=\"2\" halign=\"left\">InBreast</th>\n",
       "      <th colspan=\"2\" halign=\"left\">MIAS</th>\n",
       "    </tr>\n",
       "    <tr>\n",
       "      <th></th>\n",
       "      <th>width</th>\n",
       "      <th>height</th>\n",
       "      <th>width</th>\n",
       "      <th>height</th>\n",
       "      <th>width</th>\n",
       "      <th>height</th>\n",
       "    </tr>\n",
       "  </thead>\n",
       "  <tbody>\n",
       "    <tr>\n",
       "      <th>count</th>\n",
       "      <td>1,553.00</td>\n",
       "      <td>1,553.00</td>\n",
       "      <td>94.00</td>\n",
       "      <td>94.00</td>\n",
       "      <td>72.00</td>\n",
       "      <td>72.00</td>\n",
       "    </tr>\n",
       "    <tr>\n",
       "      <th>mean</th>\n",
       "      <td>396.70</td>\n",
       "      <td>392.07</td>\n",
       "      <td>397.23</td>\n",
       "      <td>393.23</td>\n",
       "      <td>130.42</td>\n",
       "      <td>129.58</td>\n",
       "    </tr>\n",
       "    <tr>\n",
       "      <th>std</th>\n",
       "      <td>164.81</td>\n",
       "      <td>160.12</td>\n",
       "      <td>236.09</td>\n",
       "      <td>238.36</td>\n",
       "      <td>85.81</td>\n",
       "      <td>86.39</td>\n",
       "    </tr>\n",
       "    <tr>\n",
       "      <th>min</th>\n",
       "      <td>58.00</td>\n",
       "      <td>136.00</td>\n",
       "      <td>86.00</td>\n",
       "      <td>58.00</td>\n",
       "      <td>42.00</td>\n",
       "      <td>24.00</td>\n",
       "    </tr>\n",
       "    <tr>\n",
       "      <th>10%</th>\n",
       "      <td>236.00</td>\n",
       "      <td>238.00</td>\n",
       "      <td>153.60</td>\n",
       "      <td>156.00</td>\n",
       "      <td>56.00</td>\n",
       "      <td>50.60</td>\n",
       "    </tr>\n",
       "    <tr>\n",
       "      <th>20%</th>\n",
       "      <td>278.00</td>\n",
       "      <td>272.00</td>\n",
       "      <td>197.20</td>\n",
       "      <td>189.20</td>\n",
       "      <td>68.40</td>\n",
       "      <td>68.40</td>\n",
       "    </tr>\n",
       "    <tr>\n",
       "      <th>30%</th>\n",
       "      <td>307.20</td>\n",
       "      <td>300.00</td>\n",
       "      <td>225.80</td>\n",
       "      <td>231.80</td>\n",
       "      <td>80.00</td>\n",
       "      <td>80.00</td>\n",
       "    </tr>\n",
       "    <tr>\n",
       "      <th>40%</th>\n",
       "      <td>336.00</td>\n",
       "      <td>329.60</td>\n",
       "      <td>265.60</td>\n",
       "      <td>280.00</td>\n",
       "      <td>92.80</td>\n",
       "      <td>92.80</td>\n",
       "    </tr>\n",
       "    <tr>\n",
       "      <th>50%</th>\n",
       "      <td>364.00</td>\n",
       "      <td>360.00</td>\n",
       "      <td>347.00</td>\n",
       "      <td>321.00</td>\n",
       "      <td>107.00</td>\n",
       "      <td>109.00</td>\n",
       "    </tr>\n",
       "    <tr>\n",
       "      <th>60%</th>\n",
       "      <td>396.00</td>\n",
       "      <td>390.00</td>\n",
       "      <td>424.00</td>\n",
       "      <td>408.80</td>\n",
       "      <td>118.00</td>\n",
       "      <td>118.00</td>\n",
       "    </tr>\n",
       "    <tr>\n",
       "      <th>70%</th>\n",
       "      <td>434.00</td>\n",
       "      <td>432.00</td>\n",
       "      <td>518.60</td>\n",
       "      <td>505.20</td>\n",
       "      <td>134.00</td>\n",
       "      <td>134.00</td>\n",
       "    </tr>\n",
       "    <tr>\n",
       "      <th>80%</th>\n",
       "      <td>486.00</td>\n",
       "      <td>480.00</td>\n",
       "      <td>586.00</td>\n",
       "      <td>563.60</td>\n",
       "      <td>165.60</td>\n",
       "      <td>164.00</td>\n",
       "    </tr>\n",
       "    <tr>\n",
       "      <th>90%</th>\n",
       "      <td>596.00</td>\n",
       "      <td>594.00</td>\n",
       "      <td>641.00</td>\n",
       "      <td>702.80</td>\n",
       "      <td>255.80</td>\n",
       "      <td>255.80</td>\n",
       "    </tr>\n",
       "    <tr>\n",
       "      <th>max</th>\n",
       "      <td>2,130.00</td>\n",
       "      <td>1,594.00</td>\n",
       "      <td>1,130.00</td>\n",
       "      <td>1,180.00</td>\n",
       "      <td>474.00</td>\n",
       "      <td>474.00</td>\n",
       "    </tr>\n",
       "  </tbody>\n",
       "</table>\n",
       "</div>"
      ],
      "text/plain": [
       "db        CBIS          InBreast            MIAS       \n",
       "         width   height    width   height  width height\n",
       "count 1,553.00 1,553.00    94.00    94.00  72.00  72.00\n",
       "mean    396.70   392.07   397.23   393.23 130.42 129.58\n",
       "std     164.81   160.12   236.09   238.36  85.81  86.39\n",
       "min      58.00   136.00    86.00    58.00  42.00  24.00\n",
       "10%     236.00   238.00   153.60   156.00  56.00  50.60\n",
       "20%     278.00   272.00   197.20   189.20  68.40  68.40\n",
       "30%     307.20   300.00   225.80   231.80  80.00  80.00\n",
       "40%     336.00   329.60   265.60   280.00  92.80  92.80\n",
       "50%     364.00   360.00   347.00   321.00 107.00 109.00\n",
       "60%     396.00   390.00   424.00   408.80 118.00 118.00\n",
       "70%     434.00   432.00   518.60   505.20 134.00 134.00\n",
       "80%     486.00   480.00   586.00   563.60 165.60 164.00\n",
       "90%     596.00   594.00   641.00   702.80 255.80 255.80\n",
       "max   2,130.00 1,594.00 1,130.00 1,180.00 474.00 474.00"
      ]
     },
     "execution_count": 28,
     "metadata": {},
     "output_type": "execute_result"
    }
   ],
   "source": [
    "# Se obtienen los rois procesados.\n",
    "l = []\n",
    "for path, db in zip([CBIS_DDSM_PREPROCESSED_DATA_PATH, INBREAST_PREPROCESSED_DATA_PATH, MIAS_PREPROCESSED_DATA_PATH], \n",
    "                    ['CBIS', 'InBreast', 'MIAS']):\n",
    "    df = pd.DataFrame(search_files(file=f'{root_path}\\\\{path}\\\\CROP\\\\CONF0', ext='png', in_subdirs=False), columns=['FILE'])\n",
    "    df.loc[:, 'IMG_SIZE'] = df.FILE.apply(lambda x: cv2.cvtColor(cv2.imread(x), cv2.COLOR_BGR2GRAY).shape)\n",
    "    df.loc[:, 'db'] = db\n",
    "    df.loc[:, 'width'] = df.IMG_SIZE.str[1].astype(int)\n",
    "    df.loc[:, 'height'] = df.IMG_SIZE.str[0].astype(int)\n",
    "    l.append(df[['db', 'width', 'height']])\n",
    "\n",
    "pd.concat(l).groupby('db').describe(percentiles=[.1, .2, .3, .4, .5, .6, .7, .8, .9]).T.unstack(level=0)"
   ]
  },
  {
   "cell_type": "code",
   "execution_count": null,
   "metadata": {},
   "outputs": [],
   "source": []
  }
 ],
 "metadata": {
  "kernelspec": {
   "display_name": "Python 3 (ipykernel)",
   "language": "python",
   "name": "python3"
  },
  "language_info": {
   "codemirror_mode": {
    "name": "ipython",
    "version": 3
   },
   "file_extension": ".py",
   "mimetype": "text/x-python",
   "name": "python",
   "nbconvert_exporter": "python",
   "pygments_lexer": "ipython3",
   "version": "3.7.8"
  }
 },
 "nbformat": 4,
 "nbformat_minor": 1
}
