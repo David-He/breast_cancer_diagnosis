{
 "cells": [
  {
   "cell_type": "code",
   "execution_count": 2,
   "metadata": {
    "collapsed": true
   },
   "outputs": [
    {
     "name": "stderr",
     "output_type": "stream",
     "text": [
      "UsageError: Line magic function `%` not found.\n"
     ]
    }
   ],
   "source": [
    "from utils.functions import get_path, search_files, get_filename\n",
    "from utils.config import (\n",
    "    CBIS_DDSM_CONVERTED_DATA_PATH, CBIS_DDSM_PREPROCESSED_DATA_PATH, CBIS_DDSM_DB_PATH, MIAS_CONVERTED_DATA_PATH,\n",
    "    MIAS_PREPROCESSED_DATA_PATH, INBREAST_CONVERTED_DATA_PATH, INBREAST_PREPROCESSED_DATA_PATH,\n",
    "    INBREAST_DB_XML_ROI_PATH\n",
    ")\n",
    "\n",
    "from typing import io\n",
    "\n",
    "import cv2\n",
    "import plistlib\n",
    "import os\n",
    "import pydicom\n",
    "\n",
    "import pandas as pd\n",
    "import numpy as np\n",
    "import matplotlib.pyplot as plt\n",
    "\n",
    "root_path = r'C:\\Users\\USUARIO\\Desktop\\Master Data Science\\TFM\\Code\\src'\n",
    "% matplotlib inline"
   ]
  },
  {
   "cell_type": "code",
   "execution_count": 22,
   "outputs": [],
   "source": [
    "# Se obtiene el número de imagenes del dataset inbreast\n",
    "l = []\n",
    "for file in search_files(get_path(root_path, CBIS_DDSM_CONVERTED_DATA_PATH, 'FULL', create=False), ext='png', in_subdirs=False):\n",
    "    l.append([get_filename(file)])\n",
    "\n",
    "cbis_df = pd.DataFrame(l, columns=['FILE_NAME'])"
   ],
   "metadata": {
    "collapsed": false,
    "pycharm": {
     "name": "#%%\n"
    }
   }
  },
  {
   "cell_type": "code",
   "execution_count": 24,
   "outputs": [],
   "source": [
    "# Se obtienen las mascaras convertidas\n",
    "l = []\n",
    "for file in search_files(get_path(root_path, CBIS_DDSM_CONVERTED_DATA_PATH, 'MASK', create=False), ext='png', in_subdirs=False):\n",
    "    l.append([get_filename(file)])\n",
    "\n",
    "cbis_mask_df = pd.DataFrame(l, columns=['MASK_FILE_NAME'])"
   ],
   "metadata": {
    "collapsed": false,
    "pycharm": {
     "name": "#%%\n"
    }
   }
  },
  {
   "cell_type": "code",
   "execution_count": 25,
   "outputs": [
    {
     "data": {
      "text/plain": "Empty DataFrame\nColumns: [FILE_NAME]\nIndex: []",
      "text/html": "<div>\n<style scoped>\n    .dataframe tbody tr th:only-of-type {\n        vertical-align: middle;\n    }\n\n    .dataframe tbody tr th {\n        vertical-align: top;\n    }\n\n    .dataframe thead th {\n        text-align: right;\n    }\n</style>\n<table border=\"1\" class=\"dataframe\">\n  <thead>\n    <tr style=\"text-align: right;\">\n      <th></th>\n      <th>FILE_NAME</th>\n    </tr>\n  </thead>\n  <tbody>\n  </tbody>\n</table>\n</div>"
     },
     "execution_count": 25,
     "metadata": {},
     "output_type": "execute_result"
    }
   ],
   "source": [
    "# Imagenes que no tienen mascara convertida\n",
    "cbis_df[~cbis_df.FILE_NAME.isin(cbis_mask_df.MASK_FILE_NAME)]"
   ],
   "metadata": {
    "collapsed": false,
    "pycharm": {
     "name": "#%%\n"
    }
   }
  },
  {
   "cell_type": "code",
   "execution_count": 28,
   "outputs": [],
   "source": [
    "# Se obtienen las mascaras procesadas\n",
    "l = []\n",
    "for file in search_files(get_path(root_path, CBIS_DDSM_PREPROCESSED_DATA_PATH, 'MASK', create=False), ext='png', in_subdirs=False):\n",
    "    l.append([get_filename(file)])\n",
    "\n",
    "cbis_mask_df_proc = pd.DataFrame(l, columns=['MASK_FILE_NAME'])"
   ],
   "metadata": {
    "collapsed": false,
    "pycharm": {
     "name": "#%%\n"
    }
   }
  },
  {
   "cell_type": "code",
   "execution_count": 29,
   "outputs": [
    {
     "data": {
      "text/plain": "                           FILE_NAME\n189      Mass-Test_P_01090_RIGHT_MLO\n387   Mass-Training_P_00092_RIGHT_CC\n685   Mass-Training_P_00596_RIGHT_CC\n759  Mass-Training_P_00720_RIGHT_MLO\n765   Mass-Training_P_00730_RIGHT_CC",
      "text/html": "<div>\n<style scoped>\n    .dataframe tbody tr th:only-of-type {\n        vertical-align: middle;\n    }\n\n    .dataframe tbody tr th {\n        vertical-align: top;\n    }\n\n    .dataframe thead th {\n        text-align: right;\n    }\n</style>\n<table border=\"1\" class=\"dataframe\">\n  <thead>\n    <tr style=\"text-align: right;\">\n      <th></th>\n      <th>FILE_NAME</th>\n    </tr>\n  </thead>\n  <tbody>\n    <tr>\n      <th>189</th>\n      <td>Mass-Test_P_01090_RIGHT_MLO</td>\n    </tr>\n    <tr>\n      <th>387</th>\n      <td>Mass-Training_P_00092_RIGHT_CC</td>\n    </tr>\n    <tr>\n      <th>685</th>\n      <td>Mass-Training_P_00596_RIGHT_CC</td>\n    </tr>\n    <tr>\n      <th>759</th>\n      <td>Mass-Training_P_00720_RIGHT_MLO</td>\n    </tr>\n    <tr>\n      <th>765</th>\n      <td>Mass-Training_P_00730_RIGHT_CC</td>\n    </tr>\n  </tbody>\n</table>\n</div>"
     },
     "execution_count": 29,
     "metadata": {},
     "output_type": "execute_result"
    }
   ],
   "source": [
    "# Imagenes que no tienen mascara convertida\n",
    "cbis_df[~cbis_df.FILE_NAME.isin(cbis_mask_df_proc.MASK_FILE_NAME)]"
   ],
   "metadata": {
    "collapsed": false,
    "pycharm": {
     "name": "#%%\n"
    }
   }
  },
  {
   "cell_type": "code",
   "execution_count": 32,
   "outputs": [
    {
     "data": {
      "text/plain": "<Figure size 1080x720 with 5 Axes>",
      "image/png": "[encoded data removed]"
     },
     "metadata": {
      "needs_background": "light"
     },
     "output_type": "display_data"
    }
   ],
   "source": [
    "fig, ax = plt.subplots(1, 5, figsize=(15, 7))\n",
    "\n",
    "for file, axes in zip(cbis_df[~cbis_df.FILE_NAME.isin(cbis_mask_df_proc.MASK_FILE_NAME)].FILE_NAME.values.tolist(), ax.flatten()):\n",
    "\n",
    "    axes.imshow(cv2.imread(get_path(root_path, CBIS_DDSM_CONVERTED_DATA_PATH, 'MASK', f'{file}.png')))\n",
    "\n",
    "fig.tight_layout()"
   ],
   "metadata": {
    "collapsed": false,
    "pycharm": {
     "name": "#%%\n"
    }
   }
  },
  {
   "cell_type": "markdown",
   "source": [
    "**Conclusión:** EL CROP DE LAS IMAGENES PRODUCE QUE SE PIERDA LA MASCARA Y SE EXCLUYAN DICHAS IMAGENES"
   ],
   "metadata": {
    "collapsed": false
   }
  },
  {
   "cell_type": "code",
   "execution_count": 5,
   "outputs": [],
   "source": [
    "# Se obtiene el número de carpetas con _N de cada imagen\n",
    "cbis_mask_ori = pd.DataFrame(\n",
    "    data=search_files(file=f'{root_path}\\\\{CBIS_DDSM_DB_PATH}\\\\Mass-*_[0-9]', ext='dcm', in_subdirs=True),\n",
    "    columns=['MASK_FILEPATH']\n",
    ")\n",
    "cbis_mask_ori.loc[:, 'FILE_NAME'] = cbis_mask_ori.MASK_FILEPATH.apply(lambda x: \"_\".join(x.split(os.sep)[-4].split(\"_\")[:-1]))"
   ],
   "metadata": {
    "collapsed": false,
    "pycharm": {
     "name": "#%%\n"
    }
   }
  },
  {
   "cell_type": "code",
   "execution_count": 11,
   "outputs": [],
   "source": [
    "cbis_mask_ori.loc[:, 'IS_MASK'] = cbis_mask_ori.MASK_FILEPATH.apply(\n",
    "    lambda x: 1 if len(np.unique(pydicom.dcmread(x).pixel_array)) == 2 else 0)\n",
    "\n"
   ],
   "metadata": {
    "collapsed": false,
    "pycharm": {
     "name": "#%%\n"
    }
   }
  },
  {
   "cell_type": "code",
   "execution_count": 59,
   "outputs": [],
   "source": [
    "cbis_roi = pd.DataFrame(\n",
    "    data=search_files(file=f'{root_path}\\\\{CBIS_DDSM_PREPROCESSED_DATA_PATH}\\\\CROP\\\\CONF0', ext='png', in_subdirs=False),\n",
    "    columns=['ROI_FILEPATH']\n",
    ")\n",
    "cbis_roi.loc[:, 'FILE_NAME'] = cbis_roi.ROI_FILEPATH.apply(lambda x: \"_\".join(get_filename(x).split('_')[1:-1]))\n",
    "cbis_roi.loc[:, 'IMG_SIZE'] = cbis_roi.ROI_FILEPATH.apply(lambda x: cv2.cvtColor(cv2.imread(x), cv2.COLOR_BGR2GRAY).shape)"
   ],
   "metadata": {
    "collapsed": false,
    "pycharm": {
     "name": "#%%\n"
    }
   }
  },
  {
   "cell_type": "code",
   "execution_count": 60,
   "outputs": [
    {
     "data": {
      "text/plain": "-2"
     },
     "execution_count": 60,
     "metadata": {},
     "output_type": "execute_result"
    }
   ],
   "source": [
    "# Se analizan los que estan en ROI_FILEPATH ya que se suprimen las muestras que son benign without callback\n",
    "cbis_roi_analize = cbis_mask_ori[cbis_mask_ori.FILE_NAME.isin(cbis_roi.FILE_NAME)].groupby('FILE_NAME', as_index=False).IS_MASK.sum()\n",
    "len(cbis_roi) - cbis_roi_analize.IS_MASK.sum()"
   ],
   "metadata": {
    "collapsed": false,
    "pycharm": {
     "name": "#%%\n"
    }
   }
  },
  {
   "cell_type": "markdown",
   "source": [
    "existen 48 recortes generados por ruido en las mascaras. Se analizan cuales son."
   ],
   "metadata": {
    "collapsed": false,
    "pycharm": {
     "name": "#%% md\n"
    }
   }
  },
  {
   "cell_type": "code",
   "execution_count": 61,
   "outputs": [],
   "source": [
    "check_rois = pd.merge(\n",
    "    left=cbis_roi.FILE_NAME.value_counts().reset_index().rename(columns={'index': 'FILE_NAME', 'FILE_NAME': 'N_CROPS'}),\n",
    "    right=cbis_roi_analize.rename(columns={'IS_MASK': 'N_MASK'}),\n",
    "    on='FILE_NAME',\n",
    "    how='left'\n",
    ")\n"
   ],
   "metadata": {
    "collapsed": false,
    "pycharm": {
     "name": "#%%\n"
    }
   }
  },
  {
   "cell_type": "code",
   "execution_count": 62,
   "outputs": [
    {
     "data": {
      "text/plain": "                                        ROI_FILEPATH  \\\n0  C:\\Users\\USUARIO\\Desktop\\Master Data Science\\T...   \n1  C:\\Users\\USUARIO\\Desktop\\Master Data Science\\T...   \n2  C:\\Users\\USUARIO\\Desktop\\Master Data Science\\T...   \n3  C:\\Users\\USUARIO\\Desktop\\Master Data Science\\T...   \n\n                         FILE_NAME      IMG_SIZE  N_CROPS  N_MASK  DIFF  \\\n0  Mass-Training_P_00778_RIGHT_MLO    (402, 314)        1       2    -1   \n1   Mass-Training_P_00802_LEFT_MLO  (1082, 2130)        1       3    -2   \n2   Mass-Training_P_01262_RIGHT_CC     (164, 80)        3       2     1   \n3   Mass-Training_P_01262_RIGHT_CC    (674, 346)        3       2     1   \n\n      AREA  LIMIT  \n0   126228      1  \n1  2304660      1  \n2    13120      3  \n3   233204      1  ",
      "text/html": "<div>\n<style scoped>\n    .dataframe tbody tr th:only-of-type {\n        vertical-align: middle;\n    }\n\n    .dataframe tbody tr th {\n        vertical-align: top;\n    }\n\n    .dataframe thead th {\n        text-align: right;\n    }\n</style>\n<table border=\"1\" class=\"dataframe\">\n  <thead>\n    <tr style=\"text-align: right;\">\n      <th></th>\n      <th>ROI_FILEPATH</th>\n      <th>FILE_NAME</th>\n      <th>IMG_SIZE</th>\n      <th>N_CROPS</th>\n      <th>N_MASK</th>\n      <th>DIFF</th>\n      <th>AREA</th>\n      <th>LIMIT</th>\n    </tr>\n  </thead>\n  <tbody>\n    <tr>\n      <th>0</th>\n      <td>C:\\Users\\USUARIO\\Desktop\\Master Data Science\\T...</td>\n      <td>Mass-Training_P_00778_RIGHT_MLO</td>\n      <td>(402, 314)</td>\n      <td>1</td>\n      <td>2</td>\n      <td>-1</td>\n      <td>126228</td>\n      <td>1</td>\n    </tr>\n    <tr>\n      <th>1</th>\n      <td>C:\\Users\\USUARIO\\Desktop\\Master Data Science\\T...</td>\n      <td>Mass-Training_P_00802_LEFT_MLO</td>\n      <td>(1082, 2130)</td>\n      <td>1</td>\n      <td>3</td>\n      <td>-2</td>\n      <td>2304660</td>\n      <td>1</td>\n    </tr>\n    <tr>\n      <th>2</th>\n      <td>C:\\Users\\USUARIO\\Desktop\\Master Data Science\\T...</td>\n      <td>Mass-Training_P_01262_RIGHT_CC</td>\n      <td>(164, 80)</td>\n      <td>3</td>\n      <td>2</td>\n      <td>1</td>\n      <td>13120</td>\n      <td>3</td>\n    </tr>\n    <tr>\n      <th>3</th>\n      <td>C:\\Users\\USUARIO\\Desktop\\Master Data Science\\T...</td>\n      <td>Mass-Training_P_01262_RIGHT_CC</td>\n      <td>(674, 346)</td>\n      <td>3</td>\n      <td>2</td>\n      <td>1</td>\n      <td>233204</td>\n      <td>1</td>\n    </tr>\n  </tbody>\n</table>\n</div>"
     },
     "execution_count": 62,
     "metadata": {},
     "output_type": "execute_result"
    }
   ],
   "source": [
    "check_rois.loc[:, 'DIFF']=check_rois.N_CROPS - check_rois.N_MASK\n",
    "check_rois[check_rois.DIFF != 0].DIFF.sum()\n",
    "\n",
    "# Las imagenes que contienen cortes adicionales son:\n",
    "errors = pd.merge(left=cbis_roi, right=check_rois[check_rois.DIFF != 0], on='FILE_NAME')\n",
    "errors.loc[:, 'AREA'] = errors.IMG_SIZE.str[1].astype(int) * errors.IMG_SIZE.str[0].astype(int)\n",
    "errors.loc[:, 'LIMIT'] = errors.sort_values('AREA', ascending=False).groupby('FILE_NAME').cumcount() + 1\n",
    "\n",
    "errors[errors.LIMIT != errors.N_MASK]"
   ],
   "metadata": {
    "collapsed": false,
    "pycharm": {
     "name": "#%%\n"
    }
   }
  },
  {
   "cell_type": "markdown",
   "source": [
    "El total de máscaras son 1560.\n",
    "\n",
    "El resultado de los rois son 1553 debido a:\n",
    "Casos:\n",
    "- 5 rois borrados antriormente por el crop derecho de la mascara. (-5)\n",
    "- 01262_RIGHT_CC: Se generan 3 rois debido al crop derecho de la mascara. Separa una única región en 2. (+1)\n",
    "- 00802_LEFT_MLO: Las 3 máscaras se solapan, resultando un único ROI. (-2)\n",
    "- 00778_RIGHT_MLO: Las 2 máscaras se solapan, resultando un único ROI. (-1)\n",
    "\n",
    "El total de máscaras es de 1473 despues de realizar el agregado.\n",
    "El resultado de las imagenes y de las máscaras es de 1468 debido a que:\n",
    "Casos:\n",
    "- 5 rois borrados antriormente por el crop derecho de la mascara. (-5)\n",
    "\n",
    "\n",
    "\n",
    "\n"
   ],
   "metadata": {
    "collapsed": false,
    "pycharm": {
     "name": "#%% md\n"
    }
   }
  }
 ],
 "metadata": {
  "kernelspec": {
   "display_name": "Python 3",
   "language": "python",
   "name": "python3"
  },
  "language_info": {
   "codemirror_mode": {
    "name": "ipython",
    "version": 2
   },
   "file_extension": ".py",
   "mimetype": "text/x-python",
   "name": "python",
   "nbconvert_exporter": "python",
   "pygments_lexer": "ipython2",
   "version": "2.7.6"
  }
 },
 "nbformat": 4,
 "nbformat_minor": 0
}